{
  "nbformat": 4,
  "nbformat_minor": 0,
  "metadata": {
    "colab": {
      "provenance": []
    },
    "kernelspec": {
      "name": "python3",
      "display_name": "Python 3"
    },
    "language_info": {
      "name": "python"
    }
  },
  "cells": [
    {
      "cell_type": "code",
      "execution_count": 2,
      "metadata": {
        "colab": {
          "base_uri": "https://localhost:8080/"
        },
        "id": "RfKC5rkzqFKt",
        "outputId": "f85d3382-4ea7-4060-eeac-f5b5a9d242a2"
      },
      "outputs": [
        {
          "output_type": "stream",
          "name": "stdout",
          "text": [
            "Requirement already satisfied: PyPDF2 in /usr/local/lib/python3.10/dist-packages (3.0.1)\n"
          ]
        }
      ],
      "source": [
        "!pip install PyPDF2"
      ]
    },
    {
      "cell_type": "code",
      "source": [
        "import PyPDF2\n",
        "\n",
        "# Open the PDF file in read-binary mode\n",
        "with open('/content/drive/MyDrive/GenzeonMLPrep/09-07-2023/report.pdf', 'rb') as file:\n",
        "    # Create a PDF reader object\n",
        "    reader = PyPDF2.PdfReader(file)\n",
        "    # Get the number of pages in the PDF\n",
        "    num_pages = len(reader.pages)\n",
        "\n",
        "    # Loop through each page and extract the text\n",
        "    for page_num in range(num_pages):\n",
        "        page = reader.pages[page_num]\n",
        "        text = page.extract_text()\n",
        "        # Process the extracted text as needed\n",
        "        print(f\"Page {page_num + 1}:\\n{text}\\n\")\n"
      ],
      "metadata": {
        "colab": {
          "base_uri": "https://localhost:8080/"
        },
        "id": "l8KXSawQskV6",
        "outputId": "f1e0a9b1-196e-431f-b146-645ec27282dc"
      },
      "execution_count": 3,
      "outputs": [
        {
          "output_type": "stream",
          "name": "stdout",
          "text": [
            "Page 1:\n",
            "Age–48 \n",
            "Bp – 80 \n",
            "Sg:1.09  \n",
            "Al : 5 \n",
            "Su=0 \n",
            "Rbc = NORMAL  \n",
            "Pc :-> Abnormal  \n",
            "Pcc :  \n",
            "Ba \n",
            "Bgr \n",
            "Bu \n",
            "Sc \n",
            "Sod \n",
            "Pot \n",
            "Hemo  \n",
            "Pcv \n",
            "Wc \n",
            "Rc \n",
            "Htn \n",
            "Dm \n",
            "Cad \n",
            "Appet  \n",
            "Pe \n",
            "Ane \n",
            "\n"
          ]
        }
      ]
    }
  ]
}