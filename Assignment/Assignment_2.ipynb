{
  "nbformat": 4,
  "nbformat_minor": 0,
  "metadata": {
    "colab": {
      "provenance": []
    },
    "kernelspec": {
      "name": "python3",
      "display_name": "Python 3"
    },
    "language_info": {
      "name": "python"
    }
  },
  "cells": [
    {
      "cell_type": "code",
      "source": [
        "#Q.1\n",
        "a= list(input(\"Enter a sentence\").split(\",\"))\n",
        "st=set(a)\n",
        "li=list(st)\n",
        "li.sort()\n",
        "print(li)"
      ],
      "metadata": {
        "id": "PGKGU8raYR3g"
      },
      "execution_count": null,
      "outputs": []
    },
    {
      "cell_type": "code",
      "source": [
        "#Q.2 using function and without using fucntion\n",
        "\n",
        "def replace_spaces_with_hyphens(input_string):\n",
        "    output_string = input_string.replace(\" \", \"-\")\n",
        "    return output_string\n",
        "\n",
        "# Example usage\n",
        "input_string = \"This program converts spaces into hyphen\"\n",
        "output_string = replace_spaces_with_hyphens(input_string)\n",
        "print(output_string)\n",
        "# without function\n",
        "output_string2=\"\"\n",
        "for iter in input_string:\n",
        "    if iter==\" \":\n",
        "        output_string2+=\"-\"\n",
        "    else:\n",
        "        output_string2+=iter\n",
        "\n",
        "print(output_string2)"
      ],
      "metadata": {
        "id": "x7NpquTTY1B5"
      },
      "execution_count": null,
      "outputs": []
    },
    {
      "cell_type": "code",
      "source": [
        "#question 3(1)\n",
        "\n",
        "statelist=[\"Delhi\",\"Telangana\",\"Goa\",\"AP\",\"Kerala\"]\n",
        "for i in statelist:\n",
        "\n",
        "    for j in i:\n",
        "\n",
        "        print(i[0].lower()+i[-1].upper(),end=\"\")\n",
        "\n",
        "        break\n",
        "\n",
        "#question 3(2)\n",
        "\n",
        "statelist=[\"Delhi\",\"Telangana\",\"Goa\",\"AP\",\"Kerala\"]\n",
        "\n",
        "output_string = ''.join([state[0].lower() + state[-1].upper() for state in statelist])\n",
        "\n",
        "print(output_string)\n"
      ],
      "metadata": {
        "id": "eM1xsTtNY5lL"
      },
      "execution_count": null,
      "outputs": []
    },
    {
      "cell_type": "code",
      "source": [
        "#4\n",
        "#approach 1\n",
        "import math\n",
        "statelist=[\"Delhi\",\"Bihar\",\"Goa\",\"Gujarat\",\"Assam\"]\n",
        "\n",
        "for i in statelist:\n",
        "    keng = (math.floor(len(i)/2))\n",
        "    char = i[keng]\n",
        "    #print(char)\n",
        "    if char in ['a','e','i','o','u']:\n",
        "        print(char,end=\"\")  "
      ],
      "metadata": {
        "id": "s6XJSYBYYhG7"
      },
      "execution_count": null,
      "outputs": []
    },
    {
      "cell_type": "code",
      "source": [
        "#5\n",
        "#approach 1\n",
        "\n",
        "statelist=[\"Delhi\",\"Bihar\",\"UP\",\"Goa\",\"Gujarat\",\"Assam\",\"AP\"]\n",
        "list=[]\n",
        "for i in statelist:\n",
        "    char = i[1]\n",
        "    if char in ['a','e','i','o','u']:\n",
        "        list.append(char)\n",
        "        \n",
        "list.sort()\n",
        "list.reverse()\n",
        "print(list)\n",
        "\n",
        "#5\n",
        "statelist=[\"Delhi\", \"Bihar\", \"UP\", \"Goa\", \"Gujrat\", \"Assam\", \"AP\"]\n",
        "ans=\"\"\n",
        "for i in statelist:\n",
        "  if(i[1]=='a' or i[1]=='e' or i[1]=='i' or i[1]=='o' or i[1]=='u'):\n",
        "    ans+=i[1]\n",
        "\n",
        "li=list(ans)\n",
        "li.sort()\n",
        "ans=\"\".join(li)\n",
        "fans=ans[::-1].upper()\n",
        "print(fans)\n"
      ],
      "metadata": {
        "id": "E78KgfsVYnuk"
      },
      "execution_count": null,
      "outputs": []
    },
    {
      "cell_type": "code",
      "source": [
        "#6\n",
        "statelist=[\"Delhi\",\"Bihar\",\"UP\",\"Goa\",\"Gujarat\",\"Assam\",\"AP\"]\n",
        "str=\"\"\n",
        "for item in statelist:\n",
        "    a=item[len(item)-2]\n",
        "    if(a=='a'or a=='e'or a=='i'or a=='o' or a=='u'or a=='A'or a=='E'or a=='I'or a=='O' or a=='U'):\n",
        "           str+=a.upper()\n",
        "print(str[::-1])"
      ],
      "metadata": {
        "id": "8QJqR9N1nPoR"
      },
      "execution_count": null,
      "outputs": []
    },
    {
      "cell_type": "code",
      "source": [
        "#Q.7 approach(1)\n",
        "#without using filter()\n",
        "countries = [\"Finland\", \"Germany\", \"Sweden\", \"Ireland\", \"Turkey\"]\n",
        "filtered_countries = []\n",
        "\n",
        "for country in countries:\n",
        "    if \"and\" in country:\n",
        "        filtered_countries.append(country)\n",
        "        print(filtered_countries)\n",
        "\n",
        "\n",
        "#7 approach(2)\n",
        "countries = [\"Finland\", \"Germany\", \"Sweden\", \"Ireland\", \"Turkey\"]\n",
        "\n",
        "filtered_countries = list(filter(lambda country: \"and\" in country, countries))\n",
        "print(filtered_countries)\n"
      ],
      "metadata": {
        "id": "r9nISgoFZKDr"
      },
      "execution_count": null,
      "outputs": []
    },
    {
      "cell_type": "code",
      "source": [
        "#Q.8 --------\n",
        "\n",
        "from functools import reduce\n",
        "import operator\n",
        "\n",
        "#input_list = [25, 12, 33, 12, 8, 10]\n",
        "input_list = input(\"Enter numbers, separated by spaces: \").split()\n",
        "\n",
        "# Convert the input elements to integers\n",
        "input_list = [int(element) for element in input_list]\n",
        "result = reduce(operator.add, input_list)\n",
        "\n",
        "print(result)\n",
        "\n",
        "\n",
        "#Q8.\n",
        "import functools\n",
        "Input=[25,12,33,12,8,10]\n",
        "\n",
        " \n",
        "\n",
        "print(functools.reduce(lambda a,b:a+b,Input))\n"
      ],
      "metadata": {
        "id": "2sjzwd05ZGnQ"
      },
      "execution_count": null,
      "outputs": []
    },
    {
      "cell_type": "code",
      "source": [
        "#9\n",
        "class InvalidProductBillException(Exception):\n",
        "    pass \n",
        "with open(\"Bill.txt\",\"w\") as f:\n",
        "    pass\n",
        "with open(\"Bill.txt\" , \"r\") as f: \n",
        "    ans = f.read() \n",
        "try:\n",
        "    if(ans < '0'): \n",
        "        raise InvalidProductBillException \n",
        "    else: \n",
        "        print(\"You need to pay amount\",ans)\n",
        "except InvalidProductBillException as ie: \n",
        "    print(\"Exception Occured\", ie)\n",
        "f.close()\n"
      ],
      "metadata": {
        "id": "soj__vaNZT5q"
      },
      "execution_count": null,
      "outputs": []
    },
    {
      "cell_type": "code",
      "source": [
        "#Q10\n",
        "num=int(input(\"Enter a number\"))\n",
        "temp=num\n",
        "count=0\n",
        "while(temp>0):\n",
        "    temp=int(temp/10)\n",
        "    count+=1\n",
        "with open(\"countdigit8.txt\",\"w\") as f:   \n",
        "    f.write(str(count))\n",
        "\n",
        "\n",
        "#Q10.\n",
        "\n",
        "def count_digits(number):\n",
        "\n",
        "    count = len(str(number))\n",
        "\n",
        "    with open(\"countdigit10.txt\", \"w\") as file:\n",
        "\n",
        "        file.write(str(count))\n",
        "\n",
        "    return count\n",
        "\n",
        " \n",
        "\n",
        "number = 12345\n",
        "\n",
        "digit_count = count_digits(number)\n",
        "\n",
        "print(\"Number of digits:\", digit_count)\n",
        "\n"
      ],
      "metadata": {
        "id": "mbzTbxDTZUNf"
      },
      "execution_count": null,
      "outputs": []
    },
    {
      "cell_type": "code",
      "source": [
        "#11\n",
        "\n",
        "def calculate_sum(n):\n",
        "    return (n * (n + 1)) // 2  # Sum of natural numbers formula\n",
        "\n",
        "# Write the number to a file\n",
        "def write_number_to_file(number, filename):\n",
        "    with open(filename, 'w') as file:\n",
        "        file.write(str(number))\n",
        "\n",
        "# Read the number from the file, calculate the sum, and write it to another file\n",
        "def calculate_sum_and_write_to_file(input_file, output_file):\n",
        "    with open(input_file, 'r') as file:\n",
        "        number = int(file.read())\n",
        "\n",
        "    result = calculate_sum(number)\n",
        "\n",
        "    with open(output_file, 'w') as file:\n",
        "        file.write(str(result))\n",
        "\n",
        "# Usage example\n",
        "input_file = 'input.txt'\n",
        "output_file = 'output.txt'\n",
        "number = int(input())\n",
        "\n",
        "write_number_to_file(number, input_file)\n",
        "calculate_sum_and_write_to_file(input_file, output_file)\n",
        "\n",
        "#Q.11\n",
        "\n",
        "\n",
        "num=int(input(\"enter a number\"))\n",
        "summ=int((num*(num+1))/2)\n",
        "with open(\"sumresult.txt\",\"w\") as f:\n",
        "    f.write(str(summ))   "
      ],
      "metadata": {
        "id": "lhZ6tz3BZhLo"
      },
      "execution_count": null,
      "outputs": []
    },
    {
      "cell_type": "code",
      "source": [
        "#12\n",
        "\n",
        "lit=[\"a\",'b','c']\n",
        "lst=[]\n",
        "for i in lit:\n",
        "    lst.append(i.capitalize())\n",
        "    \n",
        "f1=open(\"listupper.txt\",\"w\")\n",
        "f1.write(str(lst))\n",
        "f1.close()\n",
        "\n",
        "\n",
        "\n",
        "#12 (2) using func\n",
        "\n",
        "ls=[]\n",
        "def caps(list1):\n",
        "    for i in list1:\n",
        "        ls.append(i.capitalize())   \n",
        "\n",
        "lis=[\"abc\",\"fd\",\"sdf\"]\n",
        "caps(lis)\n",
        "        \n",
        "f1=open(\"listupper.txt\",\"w\")\n",
        "f1.write(str(ls))\n",
        "f1.close( )\n",
        "\n"
      ],
      "metadata": {
        "id": "KRFvXJjIZmVW"
      },
      "execution_count": null,
      "outputs": []
    },
    {
      "cell_type": "code",
      "source": [
        "#13(1)\n",
        "\n",
        "#func to reverse a string\n",
        "\n",
        "def rev(file1, str):\n",
        "    f1 = open(\"file1.txt\",\"w\")\n",
        "    f2 = open(\"file2.txt\", \"w\")\n",
        "    f1.write(str)\n",
        "    f1 = open(\"file1.txt\",\"r\")\n",
        "    str1=f1.read()\n",
        "    f2.write(str1[::-1])\n",
        "    f1.close()\n",
        "    f2.close()\n",
        "    \n",
        "\n",
        "rev(\"stringinput.txt\",\"aniket\")"
      ],
      "metadata": {
        "id": "0wBBLOk8Zmo9"
      },
      "execution_count": null,
      "outputs": []
    },
    {
      "cell_type": "code",
      "source": [
        "#Question 14: \n",
        "\n",
        "Countries=['Finland','Germany','Swedan','Ireland', 'Turkey']\n",
        "def func(country):\n",
        "  return \"and\" in country\n",
        "\n",
        "\n",
        "ans=list(filter(func, Countries))\n",
        "print(ans)"
      ],
      "metadata": {
        "id": "yxYkY0uUZmyw"
      },
      "execution_count": null,
      "outputs": []
    },
    {
      "cell_type": "code",
      "source": [
        "#Q15.\n",
        "num=str(input(\"enter 3 numbers with space separation\"))\n",
        "with open(\"input.txt\",\"w\") as f:\n",
        "    f.write(str(num))\n",
        "with open(\"input.txt\",\"r\") as f:\n",
        "    temp=f.read()\n",
        "temp=temp.split(\" \")\n",
        "for x in temp:\n",
        "    max1=0\n",
        "    if int(x) > max1:\n",
        "        max1=x\n",
        "with open(\"largest.txt\",\"w\") as f:\n",
        "    f.write(max1)"
      ],
      "metadata": {
        "id": "Yv_KfNKTZm6S"
      },
      "execution_count": null,
      "outputs": []
    }
  ]
}