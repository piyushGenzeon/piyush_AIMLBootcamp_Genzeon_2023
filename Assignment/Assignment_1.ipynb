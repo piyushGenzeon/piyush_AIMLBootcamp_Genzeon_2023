{
  "nbformat": 4,
  "nbformat_minor": 0,
  "metadata": {
    "colab": {
      "provenance": []
    },
    "kernelspec": {
      "name": "python3",
      "display_name": "Python 3"
    },
    "language_info": {
      "name": "python"
    }
  },
  "cells": [
    {
      "cell_type": "code",
      "execution_count": null,
      "metadata": {
        "colab": {
          "base_uri": "https://localhost:8080/"
        },
        "id": "paLwAUR2a-o2",
        "outputId": "bf85ea17-c996-48ea-c019-d26409fb851f"
      },
      "outputs": [
        {
          "output_type": "stream",
          "name": "stdout",
          "text": [
            "Uppercase:  PIYUSH THE LEGEND\n",
            "Lowercase:  piyush the legend\n",
            "Title:  Piyush The Legend\n",
            "Swapcase:  pIyUsH tHe lEgEnD\n",
            "Capital:  Piyush the legend\n",
            "Original:  PiYuSh ThE LeGeNd\n",
            "After Padding String:     PiYuSh ThE LeGeNd    \n",
            "After Padding String with '#':  ###PiYuSh ThE LeGeNd####\n",
            "Count of 'e' character:  2\n",
            "Substring 'ThE' found at index::  7\n",
            "The first position of geeks after 2nd index :  12\n",
            "ssspiyush\n",
            "piyushssss\n",
            "piyush\n"
          ]
        }
      ],
      "source": [
        "#1.Implement the methods of String with examples.\n",
        "\n",
        "text='PiYuSh ThE LeGeNd'\n",
        "\n",
        "print(\"Uppercase: \",text.upper())\n",
        "print(\"Lowercase: \",text.lower())\n",
        "print(\"Title: \",text.title())\n",
        "print(\"Swapcase: \",text.swapcase())\n",
        "print(\"Capital: \",text.capitalize())\n",
        "print(\"Original: \",text)\n",
        "\n",
        "\n",
        "print(\"After Padding String: \",text.center(24))\n",
        "print(\"After Padding String with '#': \",text.center(24,\"#\"))\n",
        "print(\"Count of 'e' character: \",text.count('e'))\n",
        "print(\"Substring 'ThE' found at index:: \",text.find('ThE'))\n",
        "print(\"The first position of geeks after 2nd index : \",text.index('e',2))\n",
        "\n",
        "\n",
        "string = \"ssspiyushssss\"\n",
        "print(string.rstrip('s'))\n",
        "print(string.lstrip('s'))\n",
        "print(string.strip('s'))"
      ]
    },
    {
      "cell_type": "code",
      "source": [
        "#2.Implement the methods of List with examples.\n",
        "\n",
        "boyz=['piyush', 'rutvik', 'anvesh', 'aman', 'tejas', 'swanand', 'varad']\n",
        "print(boyz)\n",
        "\n",
        "boyz.append(\"shubham\")\n",
        "print(boyz)\n",
        "\n",
        "x = boyz.count(\"tejas\")\n",
        "print(x)\n",
        "\n",
        "x = boyz.index(\"tejas\")\n",
        "print(x)\n",
        "\n",
        "crik=['virat', 'rohit', 'bumrah', 'shami']\n",
        "boyz.extend(crik)\n",
        "print(boyz)\n",
        "\n",
        "boyz.pop(8)\n",
        "print(boyz)\n",
        "\n",
        "boyz.remove('bumrah')\n",
        "print(boyz)\n",
        "\n",
        "boyz.reverse()\n",
        "print(boyz)\n",
        "\n",
        "boyz.sort()\n",
        "print(boyz)"
      ],
      "metadata": {
        "colab": {
          "base_uri": "https://localhost:8080/"
        },
        "id": "n-rtZK1AbOfo",
        "outputId": "f2c13072-b04a-4565-d01f-9479ebce3246"
      },
      "execution_count": null,
      "outputs": [
        {
          "output_type": "stream",
          "name": "stdout",
          "text": [
            "['piyush', 'rutvik', 'anvesh', 'aman', 'tejas', 'swanand', 'varad']\n",
            "['piyush', 'rutvik', 'anvesh', 'aman', 'tejas', 'swanand', 'varad', 'shubham']\n",
            "1\n",
            "4\n",
            "['piyush', 'rutvik', 'anvesh', 'aman', 'tejas', 'swanand', 'varad', 'shubham', 'virat', 'rohit', 'bumrah', 'shami']\n",
            "['piyush', 'rutvik', 'anvesh', 'aman', 'tejas', 'swanand', 'varad', 'shubham', 'rohit', 'bumrah', 'shami']\n",
            "['piyush', 'rutvik', 'anvesh', 'aman', 'tejas', 'swanand', 'varad', 'shubham', 'rohit', 'shami']\n",
            "['shami', 'rohit', 'shubham', 'varad', 'swanand', 'tejas', 'aman', 'anvesh', 'rutvik', 'piyush']\n",
            "['aman', 'anvesh', 'piyush', 'rohit', 'rutvik', 'shami', 'shubham', 'swanand', 'tejas', 'varad']\n"
          ]
        }
      ]
    },
    {
      "cell_type": "code",
      "source": [
        "#3.Implement the methods of Tuple with examples.\n",
        "\n",
        "boyz=('piyush', 'rutvik', 'anvesh', 'aman', 'tejas', 'swanand', 'varad')\n",
        "print(boyz)\n",
        "\n",
        "print(boyz[1])\n",
        "\n",
        "crik=('virat', 'rohit', 'bumrah', 'shami')\n",
        "mixed=crik+boyz\n",
        "print(mixed)\n",
        "\n",
        "subset = mixed[1:4]\n",
        "print(subset)\n",
        "\n",
        "length = len(mixed)\n",
        "print(length)\n",
        "\n",
        "print('anvesh' in mixed)\n",
        "print('bhuvi' in mixed) \n",
        "\n",
        "index = mixed.index('piyush')\n",
        "print(index)"
      ],
      "metadata": {
        "colab": {
          "base_uri": "https://localhost:8080/"
        },
        "id": "CfrOunGJbOmE",
        "outputId": "45b3d1fd-a061-4cb5-b941-7ca752f104d0"
      },
      "execution_count": null,
      "outputs": [
        {
          "output_type": "stream",
          "name": "stdout",
          "text": [
            "('piyush', 'rutvik', 'anvesh', 'aman', 'tejas', 'swanand', 'varad')\n",
            "rutvik\n",
            "('virat', 'rohit', 'bumrah', 'shami', 'piyush', 'rutvik', 'anvesh', 'aman', 'tejas', 'swanand', 'varad')\n",
            "('rohit', 'bumrah', 'shami')\n",
            "11\n",
            "True\n",
            "False\n",
            "4\n"
          ]
        }
      ]
    },
    {
      "cell_type": "code",
      "source": [
        "#4.Implement the methods of Dictionary with examples.\n",
        "\n",
        "person = {'name': 'Piyush', 'age': 22, 'city': 'Wardha'}\n",
        "print(person['name'])\n",
        "\n",
        "person = {'name': 'Piyush', 'age': 23}\n",
        "person['city'] = 'Pune' \n",
        "person['age'] = 22  \n",
        "print(person)\n",
        "\n",
        "del person['age']\n",
        "print(person)\n",
        "\n",
        "length = len(person)\n",
        "print(length)\n",
        "\n",
        "keys = person.keys()\n",
        "values = person.values()\n",
        "print(keys)  \n",
        "print(values)\n",
        "\n",
        "for key in person:\n",
        "    print(key)\n",
        "\n",
        "for value in person.values():\n",
        "    print(value) \n",
        "\n",
        "print('name' in person)\n",
        "print('country' in person)\n",
        "\n"
      ],
      "metadata": {
        "colab": {
          "base_uri": "https://localhost:8080/"
        },
        "id": "jsQwBhdSbOr0",
        "outputId": "9159b902-38ca-4e11-bb1d-4717014e4c15"
      },
      "execution_count": null,
      "outputs": [
        {
          "output_type": "stream",
          "name": "stdout",
          "text": [
            "Piyush\n",
            "{'name': 'Piyush', 'age': 22, 'city': 'Pune'}\n",
            "{'name': 'Piyush', 'city': 'Pune'}\n",
            "2\n",
            "dict_keys(['name', 'city'])\n",
            "dict_values(['Piyush', 'Pune'])\n",
            "name\n",
            "city\n",
            "Piyush\n",
            "Pune\n",
            "True\n",
            "False\n"
          ]
        }
      ]
    },
    {
      "cell_type": "code",
      "source": [
        "#5.Implement the methods of Set with examples.\n",
        "\n",
        "boyz={'piyush', 'rutvik', 'anvesh', 'aman', 'tejas', 'swanand', 'varad'}\n",
        "print(boyz)\n",
        "\n",
        "boyz.add('akash')\n",
        "print(boyz)\n",
        "\n",
        "boyz.remove('akash')\n",
        "print(boyz)\n",
        "\n",
        "set1 = {1, 2, 3, 4}\n",
        "set2 = {3, 4, 5, 6}\n",
        "\n",
        "# Union\n",
        "union_set = set1.union(set2)\n",
        "print(union_set) \n",
        "\n",
        "# Intersection\n",
        "intersection_set = set1.intersection(set2)\n",
        "print(intersection_set) \n",
        "\n",
        "# Difference\n",
        "difference_set = set1.difference(set2)\n",
        "print(difference_set)\n",
        "\n",
        "for i in boyz:\n",
        "    print(i)"
      ],
      "metadata": {
        "colab": {
          "base_uri": "https://localhost:8080/"
        },
        "id": "nRBbo64tbOxY",
        "outputId": "30608e36-f27e-4bc7-f4e2-f9f472ddfb43"
      },
      "execution_count": null,
      "outputs": [
        {
          "output_type": "stream",
          "name": "stdout",
          "text": [
            "{'varad', 'swanand', 'piyush', 'aman', 'tejas', 'anvesh', 'rutvik'}\n",
            "{'akash', 'varad', 'swanand', 'piyush', 'aman', 'tejas', 'anvesh', 'rutvik'}\n",
            "{'varad', 'swanand', 'piyush', 'aman', 'tejas', 'anvesh', 'rutvik'}\n",
            "{1, 2, 3, 4, 5, 6}\n",
            "{3, 4}\n",
            "{1, 2}\n",
            "varad\n",
            "swanand\n",
            "piyush\n",
            "aman\n",
            "tejas\n",
            "anvesh\n",
            "rutvik\n"
          ]
        }
      ]
    },
    {
      "cell_type": "code",
      "source": [
        "#6.Write a python program to convert Decimal to Binary, Octal and Hexadecimal with direct method.\n",
        "\n",
        "decimal=int(input(\"Enter number \"))\n",
        "\n",
        "print(\"Decimal:\", decimal)\n",
        "print(\"Binary:\", bin(decimal))\n",
        "print(\"Octal:\", oct(decimal))\n",
        "print(\"Hexadecimal:\", hex(decimal))"
      ],
      "metadata": {
        "colab": {
          "base_uri": "https://localhost:8080/"
        },
        "id": "hQhQur_WbO3v",
        "outputId": "f0a108e9-85dd-4812-8bd2-fa8b4b1b35ce"
      },
      "execution_count": null,
      "outputs": [
        {
          "output_type": "stream",
          "name": "stdout",
          "text": [
            "Enter number 67\n",
            "Decimal: 67\n",
            "Binary: 0b1000011\n",
            "Octal: 0o103\n",
            "Hexadecimal: 0x43\n"
          ]
        }
      ]
    },
    {
      "cell_type": "code",
      "source": [
        "#7.Implement Arithmetic operators with examples.\n",
        "\n",
        "a=15\n",
        "b=5\n",
        "\n",
        "#Add\n",
        "print(a+b)\n",
        "\n",
        "#Subtract\n",
        "print(a-b)\n",
        "\n",
        "#Multiply\n",
        "print(a*b)\n",
        "\n",
        "#Division\n",
        "print(a/b)\n",
        "\n",
        "#Modulus\n",
        "print(a%b)\n",
        "\n",
        "#Exponent\n",
        "print(a**b)\n",
        "\n",
        "#Floor division\n",
        "print(a//b)"
      ],
      "metadata": {
        "colab": {
          "base_uri": "https://localhost:8080/"
        },
        "id": "DNXp0GtRbO9K",
        "outputId": "7f1776a9-a86b-4066-cadc-77f108a96884"
      },
      "execution_count": null,
      "outputs": [
        {
          "output_type": "stream",
          "name": "stdout",
          "text": [
            "20\n",
            "10\n",
            "75\n",
            "3.0\n",
            "0\n",
            "759375\n",
            "3\n"
          ]
        }
      ]
    },
    {
      "cell_type": "code",
      "source": [
        "#8.Implement Assignment operators with examples.\n",
        "\n",
        "a=15\n",
        "b=5\n",
        "a+=b\n",
        "print(a)\n",
        "\n",
        "a-=b\n",
        "print(a)\n",
        "\n",
        "a*=b\n",
        "print(a)\n",
        "\n",
        "a/=b\n",
        "print(a)\n",
        "\n",
        "a=100\n",
        "a%=b\n",
        "print(a)\n",
        "\n",
        "a=5\n",
        "a**=b\n",
        "print(a)\n",
        "\n",
        "a//=b\n",
        "print(a)\n",
        "\n",
        "a&=b\n",
        "print(a)\n",
        "\n",
        "a|=b\n",
        "print(a)\n",
        "\n",
        "a^=b\n",
        "print(a)\n",
        "\n",
        "a>>=b\n",
        "print(a)\n",
        "\n",
        "a<<=b\n",
        "print(a)"
      ],
      "metadata": {
        "colab": {
          "base_uri": "https://localhost:8080/"
        },
        "id": "UpqU_fd3bPDA",
        "outputId": "25bdc13e-4d17-4601-b11e-0465c3ab57e7"
      },
      "execution_count": null,
      "outputs": [
        {
          "output_type": "stream",
          "name": "stdout",
          "text": [
            "20\n",
            "15\n",
            "75\n",
            "15.0\n",
            "0\n",
            "3125\n",
            "625\n",
            "1\n",
            "5\n",
            "0\n",
            "0\n",
            "0\n"
          ]
        }
      ]
    },
    {
      "cell_type": "code",
      "source": [
        "#9.Implement Comparison operators with examples.  \n",
        "\n",
        "a=18\n",
        "b=7\n",
        "\n",
        "print(a==b)\n",
        "print(a!=b)\n",
        "print(a>b)\n",
        "print(a<b)\n",
        "print(a>=b)\n",
        "print(a<=b)"
      ],
      "metadata": {
        "colab": {
          "base_uri": "https://localhost:8080/"
        },
        "id": "reKWQofnbPIZ",
        "outputId": "dc62ba7c-9a10-431a-dc26-fe19ebd6c002"
      },
      "execution_count": null,
      "outputs": [
        {
          "output_type": "stream",
          "name": "stdout",
          "text": [
            "False\n",
            "True\n",
            "True\n",
            "False\n",
            "True\n",
            "False\n"
          ]
        }
      ]
    },
    {
      "cell_type": "code",
      "source": [
        "#10.Implement Logical operators with examples.\n",
        "\n",
        "a=7\n",
        "b=7\n",
        "\n",
        "print(a>6 and a<10)\n",
        "\n",
        "print(a>4 or b<7)\n",
        "\n",
        "print(not(a and b))"
      ],
      "metadata": {
        "colab": {
          "base_uri": "https://localhost:8080/"
        },
        "id": "2x4tgSYSbPOI",
        "outputId": "1ecacc22-cfae-4441-b9fd-241d515b1068"
      },
      "execution_count": null,
      "outputs": [
        {
          "output_type": "stream",
          "name": "stdout",
          "text": [
            "True\n",
            "True\n",
            "False\n"
          ]
        }
      ]
    },
    {
      "cell_type": "code",
      "source": [
        "#11.Implement Bitwise operators with examples.\n",
        "\n",
        "a=5 \n",
        "b=5\n",
        "\n",
        "print(a&b)\n",
        "\n",
        "print(a|b)\n",
        "\n",
        "print(a^b)\n",
        "\n",
        "print(~a)\n",
        "\n",
        "#Shift left by pushing zeros in from the right and let the leftmost bits fall off\n",
        "print(a<<b)\n",
        "\n",
        "#Shift right by pushing copies of the leftmost bit in from the left, and let the rightmost bits fall off\n",
        "print(a>>b)"
      ],
      "metadata": {
        "colab": {
          "base_uri": "https://localhost:8080/"
        },
        "id": "wKm9K6CdbPTs",
        "outputId": "b3506d1e-5ede-403f-d99d-56c096d327bb"
      },
      "execution_count": null,
      "outputs": [
        {
          "output_type": "stream",
          "name": "stdout",
          "text": [
            "5\n",
            "5\n",
            "0\n",
            "-6\n",
            "160\n",
            "0\n"
          ]
        }
      ]
    },
    {
      "cell_type": "code",
      "source": [
        "#12.Implement Membership operators with examples.\n",
        "\n",
        "x=[1,2,3,4,5,6,7,8]\n",
        "y=[1,\"piyush\"]\n",
        "\n",
        "print(7 in x)\n",
        "print(\"piyush\" in y)"
      ],
      "metadata": {
        "colab": {
          "base_uri": "https://localhost:8080/"
        },
        "id": "QRsmvcKMbPZF",
        "outputId": "f90f3f94-776c-459f-b25d-8fa9aac90bdb"
      },
      "execution_count": null,
      "outputs": [
        {
          "output_type": "stream",
          "name": "stdout",
          "text": [
            "True\n",
            "True\n"
          ]
        }
      ]
    },
    {
      "cell_type": "code",
      "source": [
        "#13.Implement Identity operators with examples\n",
        "\n",
        "print(x is y)\n",
        "print(x is not y)"
      ],
      "metadata": {
        "colab": {
          "base_uri": "https://localhost:8080/"
        },
        "id": "kt1ngfUCbPfU",
        "outputId": "e202fa3a-268b-46aa-8b32-4426a1554f3b"
      },
      "execution_count": null,
      "outputs": [
        {
          "output_type": "stream",
          "name": "stdout",
          "text": [
            "False\n",
            "True\n"
          ]
        }
      ]
    },
    {
      "cell_type": "code",
      "source": [
        "#14.Demonstrate Negative indexing for List and apply slicing.\n",
        "\n",
        "list=[1,2,3,4,5,6]\n",
        "print(list[::-1])\n",
        "print(list[0:4])\n",
        "print(list[-6:-1])"
      ],
      "metadata": {
        "colab": {
          "base_uri": "https://localhost:8080/"
        },
        "id": "0X4R9yjIbPk0",
        "outputId": "974026f3-52d3-4fad-ea9f-14975516cd3e"
      },
      "execution_count": null,
      "outputs": [
        {
          "output_type": "stream",
          "name": "stdout",
          "text": [
            "[6, 5, 4, 3, 2, 1]\n",
            "[1, 2, 3, 4]\n",
            "[1, 2, 3, 4, 5]\n"
          ]
        }
      ]
    },
    {
      "cell_type": "code",
      "source": [
        "#15.Predict the output for the given code snippet and justify the result.\n",
        "\n",
        "str='A series of characters designated as one object known as a string'\n",
        "print(str[::-1][4:3])\n",
        "\n",
        "print(\"-----------------\")\n",
        "\n",
        "print(\"Welcome to Python training Program\"[3:10][::-1])"
      ],
      "metadata": {
        "colab": {
          "base_uri": "https://localhost:8080/"
        },
        "id": "FAM4eClEbPp7",
        "outputId": "145b6118-dd20-4a19-b782-1921bb9704bc"
      },
      "execution_count": null,
      "outputs": [
        {
          "output_type": "stream",
          "name": "stdout",
          "text": [
            "\n",
            "-----------------\n",
            "ot emoc\n"
          ]
        }
      ]
    },
    {
      "cell_type": "code",
      "source": [
        "#16.Write a python code to get desired output\n",
        "p_phrase=\"was it a car or a cat i saw\"\n",
        "print(p_phrase[::-1].upper())"
      ],
      "metadata": {
        "id": "tU87Xat9cJn1",
        "colab": {
          "base_uri": "https://localhost:8080/"
        },
        "outputId": "14999884-0ac0-485c-8be5-41d73b381737"
      },
      "execution_count": 2,
      "outputs": [
        {
          "output_type": "stream",
          "name": "stdout",
          "text": [
            "WAS I TAC A RO RAC A TI SAW\n"
          ]
        }
      ]
    },
    {
      "cell_type": "code",
      "source": [
        "#17.You are required to generate a word similar to ZOO, X and Y that denote the number of Zs and Os respectively.\n",
        "#The generatedword similar to ZOO where Y= 2* X.\n",
        "#Input X=2 Output=ZZOOOO\n",
        "#Input X=5 Output=ZZZZZOOOOOOOOOO\n",
        "\n",
        "x=int(input(\"Enter Number \"))\n",
        "y=2*x\n",
        "\n",
        "for x in range(x):\n",
        "    print(\"Z\",end=\"\")\n",
        "for y in range(y):\n",
        "    print(\"O\",end=\"\")"
      ],
      "metadata": {
        "colab": {
          "base_uri": "https://localhost:8080/"
        },
        "id": "eT9sv11dcJue",
        "outputId": "e06c33b5-b1e2-4caf-a657-23c60e61fcca"
      },
      "execution_count": null,
      "outputs": [
        {
          "output_type": "stream",
          "name": "stdout",
          "text": [
            "Enter Number 4\n",
            "ZZZZOOOOOOOO"
          ]
        }
      ]
    },
    {
      "cell_type": "code",
      "source": [
        "#18.Matrix Subtraction, Addition, Multiplication\n",
        "\n",
        "#Matrix Addition\n",
        "Matrix1=[[1,2,3],[4,5,6],[7,8,9]]\n",
        "Matrix2=[[9,8,7],[6,5,4],[3,2,1]]\n",
        "\n",
        "Matrix3=[]\n",
        "\n",
        "for i in range(len(Matrix1)):\n",
        "    row=[]\n",
        "    for j in range(len(Matrix1[i])):\n",
        "        row.append(Matrix1[i][j]+Matrix2[i][j])\n",
        "    Matrix3.append(row)\n",
        "print(Matrix3)    \n",
        "    \n",
        "    \n",
        "#Matrix Subtraction\n",
        "Matrix1=[[1,2,3],[4,5,6],[7,8,9]]\n",
        "Matrix2=[[9,8,7],[6,5,4],[3,2,1]]\n",
        "\n",
        "Matrix3=[]\n",
        "\n",
        "for i in range(len(Matrix1)):\n",
        "    row=[]\n",
        "    for j in range(len(Matrix1[i])):\n",
        "        row.append(Matrix1[i][j]-Matrix2[i][j])\n",
        "    Matrix3.append(row)\n",
        "print(Matrix3)    \n",
        "\n",
        "#Matrix Multiplication\n",
        "Matrix1=[[1,2,3],[4,5,6],[7,8,9]]\n",
        "Matrix2=[[9,8,7],[6,5,4],[3,2,1]]\n",
        "\n",
        "Matrix3=[]\n",
        "\n",
        "for i in range(len(Matrix1)):\n",
        "        row = []\n",
        "        for j in range(len(Matrix2[0])):\n",
        "            sum = 0\n",
        "            for k in range(len(Matrix2)):\n",
        "                sum += Matrix1[i][k] * Matrix2[k][j]\n",
        "            row.append(sum)\n",
        "        Matrix3.append(row)\n",
        "print(Matrix3)"
      ],
      "metadata": {
        "colab": {
          "base_uri": "https://localhost:8080/"
        },
        "id": "vOmmdxlecJ2Q",
        "outputId": "a5bbd95d-ff5f-4f1e-dc5f-e2293a433b2f"
      },
      "execution_count": null,
      "outputs": [
        {
          "output_type": "stream",
          "name": "stdout",
          "text": [
            "[[10, 10, 10], [10, 10, 10], [10, 10, 10]]\n",
            "[[-8, -6, -4], [-2, 0, 2], [4, 6, 8]]\n",
            "[[30, 24, 18], [84, 69, 54], [138, 114, 90]]\n"
          ]
        }
      ]
    }
  ]
}