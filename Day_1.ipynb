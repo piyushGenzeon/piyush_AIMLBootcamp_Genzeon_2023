{
  "nbformat": 4,
  "nbformat_minor": 0,
  "metadata": {
    "colab": {
      "provenance": [],
      "authorship_tag": "ABX9TyNemcLIzrLECcO7b/pWfth/",
      "include_colab_link": true
    },
    "kernelspec": {
      "name": "python3",
      "display_name": "Python 3"
    },
    "language_info": {
      "name": "python"
    }
  },
  "cells": [
    {
      "cell_type": "markdown",
      "metadata": {
        "id": "view-in-github",
        "colab_type": "text"
      },
      "source": [
        "<a href=\"https://colab.research.google.com/github/PiyushSendurse/Piyush_AIMLBootcamp_Genzeon_2023/blob/main/Day_1.ipynb\" target=\"_parent\"><img src=\"https://colab.research.google.com/assets/colab-badge.svg\" alt=\"Open In Colab\"/></a>"
      ]
    },
    {
      "cell_type": "code",
      "execution_count": 17,
      "metadata": {
        "colab": {
          "base_uri": "https://localhost:8080/"
        },
        "id": "nCnjVPT1dvNR",
        "outputId": "0aa9f266-1846-44d0-b513-27b78e7217ec"
      },
      "outputs": [
        {
          "output_type": "stream",
          "name": "stdout",
          "text": [
            "piyush\n"
          ]
        }
      ],
      "source": [
        "print('piyush')"
      ]
    },
    {
      "cell_type": "code",
      "source": [
        "#List\n",
        "list=[1,2,3,4]\n",
        "print(list)"
      ],
      "metadata": {
        "colab": {
          "base_uri": "https://localhost:8080/"
        },
        "id": "LuQI0OHLuogM",
        "outputId": "f66b3615-31b5-460d-f3ac-eb06959cc2ff"
      },
      "execution_count": 1,
      "outputs": [
        {
          "output_type": "stream",
          "name": "stdout",
          "text": [
            "[1, 2, 3, 4]\n"
          ]
        }
      ]
    },
    {
      "cell_type": "code",
      "source": [
        "#Tuple\n",
        "tuple=(1,2,3,4)\n",
        "print(tuple)"
      ],
      "metadata": {
        "colab": {
          "base_uri": "https://localhost:8080/"
        },
        "id": "ImPyP9aPvtG1",
        "outputId": "ee1e52b2-04b8-492b-a961-4ad2c31e27f3"
      },
      "execution_count": 2,
      "outputs": [
        {
          "output_type": "stream",
          "name": "stdout",
          "text": [
            "(1, 2, 3, 4)\n"
          ]
        }
      ]
    },
    {
      "cell_type": "code",
      "source": [
        "#Dictionary\n",
        "dict={'name1':\"Piyush\", 'name2':\"Rutvik\", 'name3':\"Aman\", 'name4':\"Anvesh\", 'name5':\"Tejas\"}\n",
        "print(dict)"
      ],
      "metadata": {
        "colab": {
          "base_uri": "https://localhost:8080/"
        },
        "id": "SIrVR7D_vtM5",
        "outputId": "da9121a5-3929-40b3-a9f8-767778a174b2"
      },
      "execution_count": 8,
      "outputs": [
        {
          "output_type": "stream",
          "name": "stdout",
          "text": [
            "{'name1': 'Piyush', 'name2': 'Rutvik', 'name3': 'Aman', 'name4': 'Anvesh', 'name5': 'Tejas'}\n"
          ]
        }
      ]
    },
    {
      "cell_type": "code",
      "source": [
        "dict={'name':\"Piyush\", 'name':\"Rutvik\", 'name':\"Aman\", 'name':\"Anvesh\", 'name':\"Tejas\"}\n",
        "print(dict)"
      ],
      "metadata": {
        "colab": {
          "base_uri": "https://localhost:8080/"
        },
        "id": "Ckb7pQkCvtT1",
        "outputId": "a270208e-2447-463f-c273-70328cbd412e"
      },
      "execution_count": 9,
      "outputs": [
        {
          "output_type": "stream",
          "name": "stdout",
          "text": [
            "{'name': 'Tejas'}\n"
          ]
        }
      ]
    },
    {
      "cell_type": "code",
      "source": [
        "#Byte Array\n",
        "x= bytearray(5)\n",
        "print(x)"
      ],
      "metadata": {
        "colab": {
          "base_uri": "https://localhost:8080/"
        },
        "id": "wtj-tLRdvtYR",
        "outputId": "56feecb8-13b9-4aa1-a63e-6eecbbae5fc2"
      },
      "execution_count": 16,
      "outputs": [
        {
          "output_type": "stream",
          "name": "stdout",
          "text": [
            "bytearray(b'\\x00\\x00\\x00\\x00\\x00')\n"
          ]
        }
      ]
    },
    {
      "cell_type": "code",
      "source": [
        "#Type Conversion\n",
        "a=3\n",
        "b=5.7\n",
        "#Implicit\n",
        "e=a+b\n",
        "print(e)"
      ],
      "metadata": {
        "colab": {
          "base_uri": "https://localhost:8080/"
        },
        "id": "CqtgawSpvtbA",
        "outputId": "394e93f4-196f-4d92-bc01-85857d41558b"
      },
      "execution_count": 18,
      "outputs": [
        {
          "output_type": "stream",
          "name": "stdout",
          "text": [
            "8.7\n"
          ]
        }
      ]
    },
    {
      "cell_type": "code",
      "source": [
        "a=10\n",
        "b=2+3j\n",
        "print(a)\n",
        "print(b)\n",
        "print(b.real)\n",
        "print(b.imag)\n",
        "c=complex(10,20)\n",
        "print(c)"
      ],
      "metadata": {
        "colab": {
          "base_uri": "https://localhost:8080/"
        },
        "id": "bL-7te2QyOvc",
        "outputId": "a039af42-4201-4a4d-ba37-3d8c7eade508"
      },
      "execution_count": 19,
      "outputs": [
        {
          "output_type": "stream",
          "name": "stdout",
          "text": [
            "10\n",
            "(2+3j)\n",
            "2.0\n",
            "3.0\n",
            "(10+20j)\n"
          ]
        }
      ]
    },
    {
      "cell_type": "code",
      "source": [
        "x=\"Piyush\"\n",
        "print(bool(x))\n",
        "y=0\n",
        "print(bool(y))"
      ],
      "metadata": {
        "colab": {
          "base_uri": "https://localhost:8080/"
        },
        "id": "MhmdLfuGyldD",
        "outputId": "9d7ca134-ac52-471f-f53b-4416bfbbca05"
      },
      "execution_count": 22,
      "outputs": [
        {
          "output_type": "stream",
          "name": "stdout",
          "text": [
            "True\n",
            "False\n"
          ]
        }
      ]
    },
    {
      "cell_type": "code",
      "source": [
        "a=5\n",
        "b=15\n",
        "print(a+b)\n",
        "print(a-b)\n",
        "print(a*b)\n",
        "print(a/b) # will give float answer \n",
        "print(a%b)\n",
        "print(a//b) # will give int answer\n",
        "print(a**b) #power"
      ],
      "metadata": {
        "colab": {
          "base_uri": "https://localhost:8080/"
        },
        "id": "Agi5WECRylfo",
        "outputId": "5ae21432-bc85-4190-97f8-c32953234dcf"
      },
      "execution_count": 26,
      "outputs": [
        {
          "output_type": "stream",
          "name": "stdout",
          "text": [
            "20\n",
            "-10\n",
            "75\n",
            "0.3333333333333333\n",
            "5\n",
            "0\n",
            "30517578125\n"
          ]
        }
      ]
    },
    {
      "cell_type": "code",
      "source": [
        "#Logical Operator\n",
        "x=True\n",
        "y=False\n",
        "print(\"x and y is\", x and y)\n",
        "print(\"x or y is\", x or y)\n",
        "print(\"x not is\", not x)"
      ],
      "metadata": {
        "colab": {
          "base_uri": "https://localhost:8080/"
        },
        "id": "qdoRdnFyylhz",
        "outputId": "1b6cb43d-ead1-4c64-acb6-226ae4274a2c"
      },
      "execution_count": 27,
      "outputs": [
        {
          "output_type": "stream",
          "name": "stdout",
          "text": [
            "x and y is False\n",
            "x or y is True\n",
            "x not is False\n"
          ]
        }
      ]
    },
    {
      "cell_type": "code",
      "source": [
        "a=11\n",
        "b=12\n",
        "print(a&b)\n",
        "print(a|b)\n",
        "print(a^b)\n",
        "print(~a)#Not\n",
        "print(a>>2)\n",
        "print(a<<2)"
      ],
      "metadata": {
        "colab": {
          "base_uri": "https://localhost:8080/"
        },
        "id": "tuJXz2PJylkW",
        "outputId": "6c3b51f8-4779-48e3-b46b-4cb789067646"
      },
      "execution_count": 28,
      "outputs": [
        {
          "output_type": "stream",
          "name": "stdout",
          "text": [
            "8\n",
            "15\n",
            "7\n",
            "-12\n",
            "2\n",
            "44\n"
          ]
        }
      ]
    },
    {
      "cell_type": "code",
      "source": [
        "my_str=\" My name is Piyush with capital P \"\n",
        "print(my_str.upper())\n",
        "print(my_str.lower())\n",
        "print(my_str.title())\n",
        "print(my_str.swapcase())\n",
        "print(my_str.capitalize())\n",
        "print(my_str.lstrip())\n",
        "print(my_str.rstrip())\n",
        "print(my_str.strip())"
      ],
      "metadata": {
        "colab": {
          "base_uri": "https://localhost:8080/"
        },
        "id": "sJlZOZZeylms",
        "outputId": "c4d84a60-ef42-4b74-e41d-5c0090881084"
      },
      "execution_count": 30,
      "outputs": [
        {
          "output_type": "stream",
          "name": "stdout",
          "text": [
            " MY NAME IS PIYUSH WITH CAPITAL P \n",
            " my name is piyush with capital p \n",
            " My Name Is Piyush With Capital P \n",
            " mY NAME IS pIYUSH WITH CAPITAL p \n",
            " my name is piyush with capital p \n",
            "My name is Piyush with capital P \n",
            " My name is Piyush with capital P\n",
            "My name is Piyush with capital P\n"
          ]
        }
      ]
    },
    {
      "cell_type": "code",
      "source": [
        "a=\"HIHIhi\"\n",
        "b=\"It's Piyush\"\n",
        "print(a+b)\n",
        "print(a*2)"
      ],
      "metadata": {
        "colab": {
          "base_uri": "https://localhost:8080/"
        },
        "id": "D0bxr2xpylo4",
        "outputId": "4637abf2-210a-4399-e720-3190605bb59f"
      },
      "execution_count": 31,
      "outputs": [
        {
          "output_type": "stream",
          "name": "stdout",
          "text": [
            "HIHIhiIt's Piyush\n",
            "HIHIhiHIHIhi\n"
          ]
        }
      ]
    },
    {
      "cell_type": "code",
      "source": [
        "list=[1,2,3,4]\n",
        "my_list=[1,\"hello\",3,4]\n",
        "nest_list=[5,6,my_list,list]\n",
        "print(list)\n",
        "print(my_list)\n",
        "print(nest_list)\n",
        "print(\"*****************************\")\n",
        "print(nest_list[2][1][1:4])"
      ],
      "metadata": {
        "colab": {
          "base_uri": "https://localhost:8080/"
        },
        "id": "mu3KJF550RgU",
        "outputId": "2e08f2b8-0063-4fa9-ae27-18c1d28525e7"
      },
      "execution_count": 33,
      "outputs": [
        {
          "output_type": "stream",
          "name": "stdout",
          "text": [
            "[1, 2, 3, 4]\n",
            "[1, 'hello', 3, 4]\n",
            "[5, 6, [1, 'hello', 3, 4], [1, 2, 3, 4]]\n",
            "*****************************\n",
            "ell\n"
          ]
        }
      ]
    },
    {
      "cell_type": "code",
      "source": [
        "cricket=[\"virat\",\"rohit\",\"bumrah\",\"shami\"]\n",
        "print(cricket)\n",
        "cricket.append(\"gill\")\n",
        "print(cricket)\n",
        "cricket.insert(2,\"klrahul\")\n",
        "print(cricket)\n",
        "cricket.remove(\"shami\")\n",
        "print(cricket)\n",
        "cricket.reverse()\n",
        "print(cricket)"
      ],
      "metadata": {
        "colab": {
          "base_uri": "https://localhost:8080/"
        },
        "id": "o0tiO38r0Ri-",
        "outputId": "e4c25c94-de5d-4305-fa75-478d38ffea24"
      },
      "execution_count": 34,
      "outputs": [
        {
          "output_type": "stream",
          "name": "stdout",
          "text": [
            "['virat', 'rohit', 'bumrah', 'shami']\n",
            "['virat', 'rohit', 'bumrah', 'shami', 'gill']\n",
            "['virat', 'rohit', 'klrahul', 'bumrah', 'shami', 'gill']\n",
            "['virat', 'rohit', 'klrahul', 'bumrah', 'gill']\n",
            "['gill', 'bumrah', 'klrahul', 'rohit', 'virat']\n"
          ]
        }
      ]
    },
    {
      "cell_type": "code",
      "source": [
        "num=[10,12,4,56,9,4,7,6,44]\n",
        "print(min(num))\n",
        "print(max(num))\n",
        "print(sorted(num))\n",
        "print(sum(num))\n",
        "print(sum(num[:4]))"
      ],
      "metadata": {
        "colab": {
          "base_uri": "https://localhost:8080/"
        },
        "id": "FGLY205V0RlJ",
        "outputId": "a33065bf-5ccf-4432-eb47-dd4ca71ed652"
      },
      "execution_count": 35,
      "outputs": [
        {
          "output_type": "stream",
          "name": "stdout",
          "text": [
            "4\n",
            "56\n",
            "[4, 4, 6, 7, 9, 10, 12, 44, 56]\n",
            "152\n",
            "82\n"
          ]
        }
      ]
    }
  ]
}