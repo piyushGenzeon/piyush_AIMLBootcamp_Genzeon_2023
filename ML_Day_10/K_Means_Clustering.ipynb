{
  "nbformat": 4,
  "nbformat_minor": 0,
  "metadata": {
    "colab": {
      "provenance": []
    },
    "kernelspec": {
      "name": "python3",
      "display_name": "Python 3"
    },
    "language_info": {
      "name": "python"
    }
  },
  "cells": [
    {
      "cell_type": "code",
      "execution_count": 1,
      "metadata": {
        "id": "XqVmnjWePPdv"
      },
      "outputs": [],
      "source": [
        "#K means algorithm hard coded\n",
        "#Step 1 Generate 11 random points\n",
        "import random\n",
        "\n",
        "def random_point_generator(min_value, max_value, no_of_points):\n",
        "  points = []\n",
        "  for i in range(no_of_points):\n",
        "    x = random.randint(min_value, max_value)\n",
        "    y = random.randint(min_value, max_value)\n",
        "    point = [x,y]\n",
        "    points.append(point)\n",
        "  return points\n",
        "\n",
        "dataset = random_point_generator(1,100,10)"
      ]
    },
    {
      "cell_type": "code",
      "source": [
        "len(dataset)"
      ],
      "metadata": {
        "colab": {
          "base_uri": "https://localhost:8080/"
        },
        "id": "ZaZsTMzcQAxz",
        "outputId": "c2876e6b-9c07-4739-96d5-08b4ea85378a"
      },
      "execution_count": 2,
      "outputs": [
        {
          "output_type": "execute_result",
          "data": {
            "text/plain": [
              "10"
            ]
          },
          "metadata": {},
          "execution_count": 2
        }
      ]
    },
    {
      "cell_type": "code",
      "source": [
        "dataset"
      ],
      "metadata": {
        "colab": {
          "base_uri": "https://localhost:8080/"
        },
        "id": "j9Aipif_zM7A",
        "outputId": "3a9b0975-acec-4a71-b336-3bf96f161f22"
      },
      "execution_count": 3,
      "outputs": [
        {
          "output_type": "execute_result",
          "data": {
            "text/plain": [
              "[[22, 8],\n",
              " [64, 2],\n",
              " [27, 3],\n",
              " [27, 67],\n",
              " [86, 39],\n",
              " [68, 21],\n",
              " [76, 44],\n",
              " [33, 67],\n",
              " [14, 31],\n",
              " [33, 30]]"
            ]
          },
          "metadata": {},
          "execution_count": 3
        }
      ]
    },
    {
      "cell_type": "code",
      "source": [
        "#Step 2 Select the value of k\n",
        "k = int(input(\"Enter value of k:\"))\n",
        "k"
      ],
      "metadata": {
        "colab": {
          "base_uri": "https://localhost:8080/"
        },
        "id": "G9Aj5YFTQA0M",
        "outputId": "560a54b9-0d7a-4fd2-8f00-8586c7c94516"
      },
      "execution_count": 4,
      "outputs": [
        {
          "name": "stdout",
          "output_type": "stream",
          "text": [
            "Enter value of k:2\n"
          ]
        },
        {
          "output_type": "execute_result",
          "data": {
            "text/plain": [
              "2"
            ]
          },
          "metadata": {},
          "execution_count": 4
        }
      ]
    },
    {
      "cell_type": "code",
      "source": [
        "#Step 3 Based on the value of k select 'k' points as initial centroids\n",
        "c1 = dataset[0]\n",
        "c2 = dataset[1]\n",
        "print(\"Centroid1 : \",c1)\n",
        "print(\"Centroid2 : \",c2)"
      ],
      "metadata": {
        "colab": {
          "base_uri": "https://localhost:8080/"
        },
        "id": "0K5NodFGQA2m",
        "outputId": "bc447525-c1d7-48e3-db70-b8d312f2029f"
      },
      "execution_count": 5,
      "outputs": [
        {
          "output_type": "stream",
          "name": "stdout",
          "text": [
            "Centroid1 :  [22, 8]\n",
            "Centroid2 :  [64, 2]\n"
          ]
        }
      ]
    },
    {
      "cell_type": "markdown",
      "source": [
        "**OR**"
      ],
      "metadata": {
        "id": "wwV_VRZPzruN"
      }
    },
    {
      "cell_type": "code",
      "source": [
        "centroids = []\n",
        "for i in range(k):\n",
        "  centroids.append(dataset[i])\n",
        "\n",
        "print(\"Centroids : \",centroids)\n",
        "\n",
        "#Step 3.1 create k lists for holding the clusters\n",
        "# cluster_1 = [c1]\n",
        "# cluster_2 = [c2]\n",
        "# cluster_1\n",
        "# cluster_2\n",
        "clusters = []\n",
        "for i in range(k):\n",
        "  clusters.append([])\n",
        "\n",
        "\n",
        "\n",
        "for i in range(len(centroids)):\n",
        "  clusters[i].append(centroids[i])\n",
        "\n",
        "\n",
        "\n",
        "print(\"Clusters : \",clusters)"
      ],
      "metadata": {
        "colab": {
          "base_uri": "https://localhost:8080/"
        },
        "id": "3LHA4q6Wzlhz",
        "outputId": "8cb0059b-b343-427f-d1b5-cabe03ee4f41"
      },
      "execution_count": 6,
      "outputs": [
        {
          "output_type": "stream",
          "name": "stdout",
          "text": [
            "Centroids :  [[22, 8], [64, 2]]\n",
            "Clusters :  [[[22, 8]], [[64, 2]]]\n"
          ]
        }
      ]
    },
    {
      "cell_type": "code",
      "source": [
        "#Step 3 find the Euclidean distance for each point wrt the centroids\n",
        "# ((x - x1)**2 + (y - y1)**2)**0.5\n",
        "def euclidean_dist_calculator(point,c):\n",
        "  return ((point[0] - c[0])**2 + (point[1] - c[1])**2)**0.5\n",
        "\n",
        "# def KMeansClustering(datapoint, c1,c2):\n",
        "#   distance_1 = euclidean_dist_calculator(dataset[2],c1)\n",
        "#   distance_2 = euclidean_dist_calculator(dataset[2],c2)\n",
        "\n",
        "#   print(\"distance_1 : \",distance_1)\n",
        "#   print(\"distance_2 : \",distance_2)\n",
        "#   print(\"Minimum Value : \",min(distance_1, distance_2))\n",
        "\n",
        "#   if distance_1 < distance_2:\n",
        "#     cluster_1.append(datapoint)\n",
        "#     c1[0] = (c1[0] + datapoint[0]) / 2\n",
        "#     c1[1] = (c1[1] + datapoint[1]) / 2\n",
        "#   else:\n",
        "#     cluster_2.append(datapoint)\n",
        "#     c2[0] = (c2[0] + datapoint[0]) / 2\n",
        "#     c2[1] = (c2[1] + datapoint[1]) / 2\n",
        "\n",
        "import numpy as np\n",
        "for i in range(k,len(dataset)):\n",
        "  #find euclidean distance of ith point with each centroid\n",
        "  euclidean_distances = []\n",
        "  for centroid in centroids:\n",
        "    euclidean_distances.append(euclidean_dist_calculator(dataset[i],centroid))\n",
        "\n",
        "  cluster_index = np.argmin(euclidean_distances)\n",
        "  clusters[cluster_index].append(dataset[i])\n",
        "\n",
        "  #Updating the centroid\n",
        "  clusters[cluster_index][0][0] = (clusters[cluster_index][0][0] + dataset[i][0]) / 2\n",
        "  clusters[cluster_index][0][1] = (clusters[cluster_index][0][1] + dataset[i][1]) / 2\n",
        "\n",
        "  #updating the centroids list\n",
        "  centroids[cluster_index][0] = clusters[cluster_index][0][0]\n",
        "  centroids[cluster_index][1] = clusters[cluster_index][0][1]\n",
        "\n",
        "\n",
        "\n",
        "print(\"clusters : \",clusters)\n"
      ],
      "metadata": {
        "colab": {
          "base_uri": "https://localhost:8080/"
        },
        "id": "hAmCGaoJQaCr",
        "outputId": "c0304025-cd17-419b-dc97-bc38552def6e"
      },
      "execution_count": 14,
      "outputs": [
        {
          "output_type": "stream",
          "name": "stdout",
          "text": [
            "clusters :  [[[27.51612902712077, 36.548387070186436], [27, 3], [27, 67], [33, 67], [14, 31], [33, 30], [27, 3], [27, 67], [33, 67], [14, 31], [33, 30], [27, 3], [27, 67], [33, 67], [14, 31], [33, 30], [27, 3], [27, 67], [33, 67], [14, 31], [33, 30], [27, 3], [27, 67], [33, 67], [14, 31], [33, 30], [27, 3], [27, 67], [33, 67], [14, 31], [33, 30]], [[75.14281463623047, 36.71415328979492], [86, 39], [68, 21], [76, 44], [86, 39], [68, 21], [76, 44], [86, 39], [68, 21], [76, 44], [86, 39], [68, 21], [76, 44], [86, 39], [68, 21], [76, 44], [86, 39], [68, 21], [76, 44]]]\n"
          ]
        }
      ]
    },
    {
      "cell_type": "code",
      "source": [],
      "metadata": {
        "id": "-GqE2vwFRB8m"
      },
      "execution_count": null,
      "outputs": []
    },
    {
      "cell_type": "code",
      "source": [],
      "metadata": {
        "id": "F1cmnQAoRB_W"
      },
      "execution_count": null,
      "outputs": []
    },
    {
      "cell_type": "code",
      "source": [],
      "metadata": {
        "id": "onEHK6lXRCCK"
      },
      "execution_count": null,
      "outputs": []
    },
    {
      "cell_type": "code",
      "source": [],
      "metadata": {
        "id": "KSkeWRr9RCFk"
      },
      "execution_count": null,
      "outputs": []
    }
  ]
}