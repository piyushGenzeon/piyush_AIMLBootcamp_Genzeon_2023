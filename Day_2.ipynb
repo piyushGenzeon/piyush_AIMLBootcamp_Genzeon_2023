{
  "nbformat": 4,
  "nbformat_minor": 0,
  "metadata": {
    "colab": {
      "provenance": [],
      "authorship_tag": "ABX9TyPXMCdFWHMI/6q1zrbu5Zju",
      "include_colab_link": true
    },
    "kernelspec": {
      "name": "python3",
      "display_name": "Python 3"
    },
    "language_info": {
      "name": "python"
    }
  },
  "cells": [
    {
      "cell_type": "markdown",
      "metadata": {
        "id": "view-in-github",
        "colab_type": "text"
      },
      "source": [
        "<a href=\"https://colab.research.google.com/github/PiyushSendurse/Piyush_AIMLBootcamp_Genzeon_2023/blob/main/Day_2.ipynb\" target=\"_parent\"><img src=\"https://colab.research.google.com/assets/colab-badge.svg\" alt=\"Open In Colab\"/></a>"
      ]
    },
    {
      "cell_type": "code",
      "source": [
        "a=int(input(\"Enter number \"))\n",
        "print(a)\n",
        "\n",
        "b=input(\"Enter string \")\n",
        "print(b)\n",
        "\n",
        "#string format\n",
        "name=\"genzeon\"\n",
        "language=\"python\"\n",
        "c=\"trainees\"\n",
        "\n",
        "print(c,\" are learning \",language,\" programming at \",name)\n",
        "\n",
        "#format \n",
        "print(\"{} are learning {} programming at {}\".format(c,language,name))\n",
        "print(\"{1} are learning {2} programming at {0}\".format(c,language,name))\n",
        "\n",
        "#placeholder\n",
        "print(\"%s are learning %s programming at %s\"%(c,language,name))\n",
        "\n",
        "#Rawstring\n",
        "print(f\"{c} are learning {language} at {name}\")"
      ],
      "metadata": {
        "colab": {
          "base_uri": "https://localhost:8080/"
        },
        "id": "-J7tZL4bAcIF",
        "outputId": "7dd2543d-ba60-4e11-dd62-d683150bb56b"
      },
      "execution_count": null,
      "outputs": [
        {
          "output_type": "stream",
          "name": "stdout",
          "text": [
            "Enter number 6\n",
            "6\n",
            "Enter string hii\n",
            "hii\n",
            "trainees  are learning  python  programming at  genzeon\n",
            "trainees are learning python programming at genzeon\n",
            "python are learning genzeon programming at trainees\n",
            "trainees are learning python programming at genzeon\n",
            "trainees are learning python at genzeon\n"
          ]
        }
      ]
    },
    {
      "cell_type": "code",
      "execution_count": null,
      "metadata": {
        "id": "Za5t2ksO7yUy"
      },
      "outputs": [],
      "source": [
        "#tuple\n",
        "tup0=(1,2,3,4,5,6,7)\n",
        "tup1=(\"hi\",1.4,7)\n",
        "tup2=(\"hello\",tup0,tup1)\n",
        "\n",
        "#indexing\n",
        "print(tup2[2][0])\n",
        "print(tup2[-3])\n",
        "\n",
        "#slicing\n",
        "print(tup2[0][1:3])\n",
        "\n",
        "#tuple methods\n",
        "print(tup0.count(1))\n",
        "print(tup0.index(2))\n",
        "print(max(tup0))\n",
        "print(min(tup0))\n",
        "print(len(tup0))\n"
      ]
    },
    {
      "cell_type": "code",
      "source": [
        "#sets\n",
        "s1={1,3}\n",
        "s2={1,2,3,\"hi\",(1,2,3,4)}\n",
        "\n",
        "l=[1,3,5,7]\n",
        "s3=set(l)\n",
        "print(s3)\n",
        "\n",
        "s1.add(2)\n",
        "print(s1)\n",
        "\n",
        "s1.update([2,3,4])\n",
        "print(s1)\n",
        "\n",
        "s1.discard(4)\n",
        "print(s1)\n",
        "\n",
        "# s1.remove(4)\n",
        "# print(s1)\n",
        "\n",
        "#set operation\n",
        "a={1,2,3,4}\n",
        "b={4,5,6,7}\n",
        "\n",
        "#union\n",
        "print(a|b)\n",
        "print(a.union(b))\n",
        "print(b.union(a))\n",
        "\n",
        "#intersection\n",
        "print(a&b)\n",
        "print(a.intersection(b))\n",
        "print(b.intersection(a))\n",
        "\n",
        "#Difference\n",
        "print(a-b)\n",
        "print(b-a)\n",
        "print(a.difference(b))\n",
        "print(b.difference(a))"
      ],
      "metadata": {
        "colab": {
          "base_uri": "https://localhost:8080/"
        },
        "id": "hTm3PtA89rKu",
        "outputId": "38f832da-cde6-4d2f-8e11-d079414c9229"
      },
      "execution_count": null,
      "outputs": [
        {
          "output_type": "stream",
          "name": "stdout",
          "text": [
            "{1, 3, 5, 7}\n",
            "{1, 2, 3}\n",
            "{1, 2, 3, 4}\n",
            "{1, 2, 3}\n",
            "{1, 2, 3, 4, 5, 6, 7}\n",
            "{1, 2, 3, 4, 5, 6, 7}\n",
            "{1, 2, 3, 4, 5, 6, 7}\n",
            "{4}\n",
            "{4}\n",
            "{4}\n",
            "{1, 2, 3}\n",
            "{5, 6, 7}\n",
            "{1, 2, 3}\n",
            "{5, 6, 7}\n"
          ]
        }
      ]
    },
    {
      "cell_type": "code",
      "source": [
        "#Dictionary\n",
        "dic={'name':'srk','phno':123456789,'address':'hyd'}\n",
        "print(dic['name'])\n",
        "print(dic.keys())\n",
        "print(dic.values())\n",
        "print(dic.get('name'))"
      ],
      "metadata": {
        "colab": {
          "base_uri": "https://localhost:8080/"
        },
        "id": "mlw7DvO__X2h",
        "outputId": "d7b9eaa0-820a-4a44-c7d0-b4eaface2922"
      },
      "execution_count": null,
      "outputs": [
        {
          "output_type": "stream",
          "name": "stdout",
          "text": [
            "srk\n",
            "dict_keys(['name', 'phno', 'address'])\n",
            "dict_values(['srk', 123456789, 'hyd'])\n",
            "srk\n"
          ]
        }
      ]
    },
    {
      "cell_type": "code",
      "source": [
        "#Decision Making\n",
        "var=10\n",
        "if var>0:\n",
        "  print(\"True\")\n",
        "  print(var)"
      ],
      "metadata": {
        "colab": {
          "base_uri": "https://localhost:8080/"
        },
        "id": "F00Ff8iICooe",
        "outputId": "c5bab9c9-38a3-425d-ffd9-9f691108dbd8"
      },
      "execution_count": null,
      "outputs": [
        {
          "output_type": "stream",
          "name": "stdout",
          "text": [
            "True\n",
            "10\n"
          ]
        }
      ]
    },
    {
      "cell_type": "code",
      "source": [
        "#ifelse\n",
        "var1=-1\n",
        "if var>0 :\n",
        "  print(\"true\")\n",
        "else:\n",
        "  print(\"false\")"
      ],
      "metadata": {
        "colab": {
          "base_uri": "https://localhost:8080/"
        },
        "id": "HT4yr3U7CpIC",
        "outputId": "ae3a8b1f-d3f8-4b1f-da60-3bb3a9126814"
      },
      "execution_count": null,
      "outputs": [
        {
          "output_type": "stream",
          "name": "stdout",
          "text": [
            "true\n"
          ]
        }
      ]
    },
    {
      "cell_type": "code",
      "source": [
        "#nested if\n",
        "\n",
        "age=int(input(\"Enter Age \" ))\n",
        "if age<15 :\n",
        "  print(\"Half Ticket\")\n",
        "elif age<18 :\n",
        "  print(\"Adult\")\n",
        "elif age<30 :\n",
        "  print(\"Enjoy\")\n",
        "else:\n",
        "  print(\"OLD\")"
      ],
      "metadata": {
        "colab": {
          "base_uri": "https://localhost:8080/"
        },
        "id": "WbZzoSCADdRH",
        "outputId": "c157a7dc-8e54-4318-db0e-11436d4723ab"
      },
      "execution_count": null,
      "outputs": [
        {
          "output_type": "stream",
          "name": "stdout",
          "text": [
            "Enter Age 56\n",
            "OLD\n"
          ]
        }
      ]
    },
    {
      "cell_type": "code",
      "source": [
        "#loops\n",
        "\n",
        "#For Loop\n",
        "ln=[12,43,65,7,9,43,76,8,16,90]\n",
        "sum=0\n",
        "for val in ln:\n",
        "  sum+=val\n",
        "print(\"Sum \",sum)\n",
        "\n",
        "for i in range(1,11):\n",
        "  print(i)"
      ],
      "metadata": {
        "colab": {
          "base_uri": "https://localhost:8080/"
        },
        "id": "arWD7HCoE1wR",
        "outputId": "8dcb894c-d549-4ecf-b45a-231f1f80f54e"
      },
      "execution_count": null,
      "outputs": [
        {
          "output_type": "stream",
          "name": "stdout",
          "text": [
            "Sum  369\n",
            "1\n",
            "2\n",
            "3\n",
            "4\n",
            "5\n",
            "6\n",
            "7\n",
            "8\n",
            "9\n",
            "10\n"
          ]
        }
      ]
    },
    {
      "cell_type": "code",
      "source": [
        "num=int(input(\"Enter number for table \"))\n",
        "i=1\n",
        "while(i<=num):\n",
        "  print(f\"Table {i}\")\n",
        "  j=1\n",
        "  while(j<11):\n",
        "    print(f\"{i}*{j}={i*j}\")\n",
        "    j+=1\n",
        "  print(\"________________________________________\")\n",
        "  i+=1\n"
      ],
      "metadata": {
        "colab": {
          "base_uri": "https://localhost:8080/"
        },
        "id": "2i7E-oHPHdv-",
        "outputId": "722a137c-f353-44d9-815f-cad32bd9e08b"
      },
      "execution_count": null,
      "outputs": [
        {
          "output_type": "stream",
          "name": "stdout",
          "text": [
            "Enter number for table 7\n",
            "Table 1\n",
            "1*1=1\n",
            "1*2=2\n",
            "1*3=3\n",
            "1*4=4\n",
            "1*5=5\n",
            "1*6=6\n",
            "1*7=7\n",
            "1*8=8\n",
            "1*9=9\n",
            "1*10=10\n",
            "________________________________________\n",
            "Table 2\n",
            "2*1=2\n",
            "2*2=4\n",
            "2*3=6\n",
            "2*4=8\n",
            "2*5=10\n",
            "2*6=12\n",
            "2*7=14\n",
            "2*8=16\n",
            "2*9=18\n",
            "2*10=20\n",
            "________________________________________\n",
            "Table 3\n",
            "3*1=3\n",
            "3*2=6\n",
            "3*3=9\n",
            "3*4=12\n",
            "3*5=15\n",
            "3*6=18\n",
            "3*7=21\n",
            "3*8=24\n",
            "3*9=27\n",
            "3*10=30\n",
            "________________________________________\n",
            "Table 4\n",
            "4*1=4\n",
            "4*2=8\n",
            "4*3=12\n",
            "4*4=16\n",
            "4*5=20\n",
            "4*6=24\n",
            "4*7=28\n",
            "4*8=32\n",
            "4*9=36\n",
            "4*10=40\n",
            "________________________________________\n",
            "Table 5\n",
            "5*1=5\n",
            "5*2=10\n",
            "5*3=15\n",
            "5*4=20\n",
            "5*5=25\n",
            "5*6=30\n",
            "5*7=35\n",
            "5*8=40\n",
            "5*9=45\n",
            "5*10=50\n",
            "________________________________________\n",
            "Table 6\n",
            "6*1=6\n",
            "6*2=12\n",
            "6*3=18\n",
            "6*4=24\n",
            "6*5=30\n",
            "6*6=36\n",
            "6*7=42\n",
            "6*8=48\n",
            "6*9=54\n",
            "6*10=60\n",
            "________________________________________\n",
            "Table 7\n",
            "7*1=7\n",
            "7*2=14\n",
            "7*3=21\n",
            "7*4=28\n",
            "7*5=35\n",
            "7*6=42\n",
            "7*7=49\n",
            "7*8=56\n",
            "7*9=63\n",
            "7*10=70\n",
            "________________________________________\n"
          ]
        }
      ]
    },
    {
      "cell_type": "code",
      "source": [
        "#Control Staements\n",
        "\n",
        "#Break\n",
        "for l in \"python\":\n",
        "  if l=='h':\n",
        "    break\n",
        "  print(\"Current Letter \",l)\n",
        "\n",
        "int1=10\n",
        "while(int1>0):\n",
        "  print(\"Current Values \",int1)\n",
        "  int1-=1\n",
        "  if(int1==5):\n",
        "    continue\n"
      ],
      "metadata": {
        "colab": {
          "base_uri": "https://localhost:8080/"
        },
        "id": "tAi60wz3I9-W",
        "outputId": "b1b90225-32b5-4136-8a4b-ce556fa7c822"
      },
      "execution_count": null,
      "outputs": [
        {
          "output_type": "stream",
          "name": "stdout",
          "text": [
            "Current Letter  p\n",
            "Current Letter  y\n",
            "Current Letter  t\n",
            "Current Values  10\n",
            "Current Values  9\n",
            "Current Values  8\n",
            "Current Values  7\n",
            "Current Values  6\n",
            "Current Values  5\n",
            "Current Values  4\n",
            "Current Values  3\n",
            "Current Values  2\n",
            "Current Values  1\n"
          ]
        }
      ]
    },
    {
      "cell_type": "code",
      "source": [
        "#pass\n",
        "for l in \"python\":\n",
        "    if l==\"h\":\n",
        "        pass\n",
        "        print(\"pass block\")\n",
        "    print(l)  "
      ],
      "metadata": {
        "colab": {
          "base_uri": "https://localhost:8080/"
        },
        "id": "mHCjeJnB7Hfv",
        "outputId": "30e7144b-32c7-45ef-927b-aed9fdadb3d9"
      },
      "execution_count": 1,
      "outputs": [
        {
          "output_type": "stream",
          "name": "stdout",
          "text": [
            "p\n",
            "y\n",
            "t\n",
            "pass block\n",
            "h\n",
            "o\n",
            "n\n"
          ]
        }
      ]
    },
    {
      "cell_type": "code",
      "source": [
        "for i in range(65,91):\n",
        "    print(chr(i))"
      ],
      "metadata": {
        "colab": {
          "base_uri": "https://localhost:8080/"
        },
        "id": "7StjlOsA7Nm0",
        "outputId": "6518f0a8-5be2-45ad-d0ca-a0ec98ce8668"
      },
      "execution_count": 2,
      "outputs": [
        {
          "output_type": "stream",
          "name": "stdout",
          "text": [
            "A\n",
            "B\n",
            "C\n",
            "D\n",
            "E\n",
            "F\n",
            "G\n",
            "H\n",
            "I\n",
            "J\n",
            "K\n",
            "L\n",
            "M\n",
            "N\n",
            "O\n",
            "P\n",
            "Q\n",
            "R\n",
            "S\n",
            "T\n",
            "U\n",
            "V\n",
            "W\n",
            "X\n",
            "Y\n",
            "Z\n"
          ]
        }
      ]
    }
  ]
}