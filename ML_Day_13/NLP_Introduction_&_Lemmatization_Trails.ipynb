{
  "nbformat": 4,
  "nbformat_minor": 0,
  "metadata": {
    "colab": {
      "provenance": []
    },
    "kernelspec": {
      "name": "python3",
      "display_name": "Python 3"
    },
    "language_info": {
      "name": "python"
    }
  },
  "cells": [
    {
      "cell_type": "code",
      "source": [
        "text1=\"natural Language Processing is a subfield of AI\"\n",
        "tag1=\"NLP\"\n",
        "text2=\"Computer Vision is a subfield of AI\"\n",
        "tag2=\"CV\""
      ],
      "metadata": {
        "id": "SBAJfWN0gajh"
      },
      "execution_count": 1,
      "outputs": []
    },
    {
      "cell_type": "code",
      "source": [
        "from sklearn.feature_extraction.text import CountVectorizer\n",
        "\n",
        "# Initialize the CountVectorizer\n",
        "vectorizer = CountVectorizer()\n",
        "\n",
        "# Fit the vectorizer on the texts and transform them into feature vectors\n",
        "X = vectorizer.fit_transform([text1, text2])\n",
        "\n",
        "# Get the feature names (words)\n",
        "feature_names = vectorizer.get_feature_names_out()\n",
        "\n",
        "# Get the frequency table as a matrix\n",
        "frequency_table = X.toarray()\n",
        "\n",
        "# Create a dictionary to store the frequency table\n",
        "frequency_dict = {}\n",
        "\n",
        "# Iterate over the feature names and frequency table to create the dictionary\n",
        "for feature_index, feature_name in enumerate(feature_names):\n",
        "    frequency_dict[feature_name] = frequency_table[:, feature_index]\n",
        "\n",
        "# Print the frequency table\n",
        "print(\"Word\\tText1\\tText2\")\n",
        "for feature_name in feature_names:\n",
        "    print(f\"{feature_name}\\t{frequency_dict[feature_name][0]}\\t{frequency_dict[feature_name][1]}\")"
      ],
      "metadata": {
        "colab": {
          "base_uri": "https://localhost:8080/"
        },
        "id": "Qa9GdAfAgaom",
        "outputId": "3d5aa4e5-cb67-4b8c-ab00-0151e394686a"
      },
      "execution_count": 2,
      "outputs": [
        {
          "output_type": "stream",
          "name": "stdout",
          "text": [
            "Word\tText1\tText2\n",
            "ai\t1\t1\n",
            "computer\t0\t1\n",
            "is\t1\t1\n",
            "language\t1\t0\n",
            "natural\t1\t0\n",
            "of\t1\t1\n",
            "processing\t1\t0\n",
            "subfield\t1\t1\n",
            "vision\t0\t1\n"
          ]
        }
      ]
    },
    {
      "cell_type": "code",
      "source": [
        "from sklearn.feature_extraction.text import CountVectorizer\n",
        "import pandas as pd\n",
        "\n",
        "\n",
        "# Define the two texts and their corresponding tags\n",
        "text1 = \"Natural Language Processing is a subfield of AI\"\n",
        "tag1 = \"NLP\"\n",
        "text2 = \"Computer Vision is a subfield of AI\"\n",
        "tag2 = \"CV\"\n",
        "\n",
        "# Initialize the CountVectorizer\n",
        "vectorizer = CountVectorizer()\n",
        "\n",
        "# Fit the vectorizer on the texts and transform them into feature vectors\n",
        "X = vectorizer.fit_transform([text1, text2])\n",
        "\n",
        "# Get the feature names (words)\n",
        "feature_names = vectorizer.get_feature_names_out()\n",
        "\n",
        "# Get the frequency table as a matrix\n",
        "frequency_table = X.toarray()\n",
        "\n",
        "# Create a DataFrame to hold the frequency table\n",
        "df = pd.DataFrame(frequency_table, columns=feature_names)\n",
        "\n",
        "# Add the text and tag columns\n",
        "df['Text'] = [text1, text2]\n",
        "df['Tag'] = [tag1, tag2]\n",
        "\n",
        "# Print the DataFrame\n",
        "print(df)"
      ],
      "metadata": {
        "colab": {
          "base_uri": "https://localhost:8080/"
        },
        "id": "n1lp0dL8gaqw",
        "outputId": "5e9a711e-a0a0-4b24-f2a7-c5a9b4683458"
      },
      "execution_count": 3,
      "outputs": [
        {
          "output_type": "stream",
          "name": "stdout",
          "text": [
            "   ai  computer  is  language  natural  of  processing  subfield  vision  \\\n",
            "0   1         0   1         1        1   1           1         1       0   \n",
            "1   1         1   1         0        0   1           0         1       1   \n",
            "\n",
            "                                              Text  Tag  \n",
            "0  Natural Language Processing is a subfield of AI  NLP  \n",
            "1              Computer Vision is a subfield of AI   CV  \n"
          ]
        }
      ]
    },
    {
      "cell_type": "code",
      "source": [
        "df"
      ],
      "metadata": {
        "colab": {
          "base_uri": "https://localhost:8080/",
          "height": 112
        },
        "id": "Vp5DjnVjgatG",
        "outputId": "c1eb7feb-1504-4496-8ccb-a26a0a9444c2"
      },
      "execution_count": 4,
      "outputs": [
        {
          "output_type": "execute_result",
          "data": {
            "text/plain": [
              "   ai  computer  is  language  natural  of  processing  subfield  vision  \\\n",
              "0   1         0   1         1        1   1           1         1       0   \n",
              "1   1         1   1         0        0   1           0         1       1   \n",
              "\n",
              "                                              Text  Tag  \n",
              "0  Natural Language Processing is a subfield of AI  NLP  \n",
              "1              Computer Vision is a subfield of AI   CV  "
            ],
            "text/html": [
              "\n",
              "  <div id=\"df-79d667ec-b670-4c3d-a40a-b555b3fa45bd\">\n",
              "    <div class=\"colab-df-container\">\n",
              "      <div>\n",
              "<style scoped>\n",
              "    .dataframe tbody tr th:only-of-type {\n",
              "        vertical-align: middle;\n",
              "    }\n",
              "\n",
              "    .dataframe tbody tr th {\n",
              "        vertical-align: top;\n",
              "    }\n",
              "\n",
              "    .dataframe thead th {\n",
              "        text-align: right;\n",
              "    }\n",
              "</style>\n",
              "<table border=\"1\" class=\"dataframe\">\n",
              "  <thead>\n",
              "    <tr style=\"text-align: right;\">\n",
              "      <th></th>\n",
              "      <th>ai</th>\n",
              "      <th>computer</th>\n",
              "      <th>is</th>\n",
              "      <th>language</th>\n",
              "      <th>natural</th>\n",
              "      <th>of</th>\n",
              "      <th>processing</th>\n",
              "      <th>subfield</th>\n",
              "      <th>vision</th>\n",
              "      <th>Text</th>\n",
              "      <th>Tag</th>\n",
              "    </tr>\n",
              "  </thead>\n",
              "  <tbody>\n",
              "    <tr>\n",
              "      <th>0</th>\n",
              "      <td>1</td>\n",
              "      <td>0</td>\n",
              "      <td>1</td>\n",
              "      <td>1</td>\n",
              "      <td>1</td>\n",
              "      <td>1</td>\n",
              "      <td>1</td>\n",
              "      <td>1</td>\n",
              "      <td>0</td>\n",
              "      <td>Natural Language Processing is a subfield of AI</td>\n",
              "      <td>NLP</td>\n",
              "    </tr>\n",
              "    <tr>\n",
              "      <th>1</th>\n",
              "      <td>1</td>\n",
              "      <td>1</td>\n",
              "      <td>1</td>\n",
              "      <td>0</td>\n",
              "      <td>0</td>\n",
              "      <td>1</td>\n",
              "      <td>0</td>\n",
              "      <td>1</td>\n",
              "      <td>1</td>\n",
              "      <td>Computer Vision is a subfield of AI</td>\n",
              "      <td>CV</td>\n",
              "    </tr>\n",
              "  </tbody>\n",
              "</table>\n",
              "</div>\n",
              "      <button class=\"colab-df-convert\" onclick=\"convertToInteractive('df-79d667ec-b670-4c3d-a40a-b555b3fa45bd')\"\n",
              "              title=\"Convert this dataframe to an interactive table.\"\n",
              "              style=\"display:none;\">\n",
              "        \n",
              "  <svg xmlns=\"http://www.w3.org/2000/svg\" height=\"24px\"viewBox=\"0 0 24 24\"\n",
              "       width=\"24px\">\n",
              "    <path d=\"M0 0h24v24H0V0z\" fill=\"none\"/>\n",
              "    <path d=\"M18.56 5.44l.94 2.06.94-2.06 2.06-.94-2.06-.94-.94-2.06-.94 2.06-2.06.94zm-11 1L8.5 8.5l.94-2.06 2.06-.94-2.06-.94L8.5 2.5l-.94 2.06-2.06.94zm10 10l.94 2.06.94-2.06 2.06-.94-2.06-.94-.94-2.06-.94 2.06-2.06.94z\"/><path d=\"M17.41 7.96l-1.37-1.37c-.4-.4-.92-.59-1.43-.59-.52 0-1.04.2-1.43.59L10.3 9.45l-7.72 7.72c-.78.78-.78 2.05 0 2.83L4 21.41c.39.39.9.59 1.41.59.51 0 1.02-.2 1.41-.59l7.78-7.78 2.81-2.81c.8-.78.8-2.07 0-2.86zM5.41 20L4 18.59l7.72-7.72 1.47 1.35L5.41 20z\"/>\n",
              "  </svg>\n",
              "      </button>\n",
              "      \n",
              "  <style>\n",
              "    .colab-df-container {\n",
              "      display:flex;\n",
              "      flex-wrap:wrap;\n",
              "      gap: 12px;\n",
              "    }\n",
              "\n",
              "    .colab-df-convert {\n",
              "      background-color: #E8F0FE;\n",
              "      border: none;\n",
              "      border-radius: 50%;\n",
              "      cursor: pointer;\n",
              "      display: none;\n",
              "      fill: #1967D2;\n",
              "      height: 32px;\n",
              "      padding: 0 0 0 0;\n",
              "      width: 32px;\n",
              "    }\n",
              "\n",
              "    .colab-df-convert:hover {\n",
              "      background-color: #E2EBFA;\n",
              "      box-shadow: 0px 1px 2px rgba(60, 64, 67, 0.3), 0px 1px 3px 1px rgba(60, 64, 67, 0.15);\n",
              "      fill: #174EA6;\n",
              "    }\n",
              "\n",
              "    [theme=dark] .colab-df-convert {\n",
              "      background-color: #3B4455;\n",
              "      fill: #D2E3FC;\n",
              "    }\n",
              "\n",
              "    [theme=dark] .colab-df-convert:hover {\n",
              "      background-color: #434B5C;\n",
              "      box-shadow: 0px 1px 3px 1px rgba(0, 0, 0, 0.15);\n",
              "      filter: drop-shadow(0px 1px 2px rgba(0, 0, 0, 0.3));\n",
              "      fill: #FFFFFF;\n",
              "    }\n",
              "  </style>\n",
              "\n",
              "      <script>\n",
              "        const buttonEl =\n",
              "          document.querySelector('#df-79d667ec-b670-4c3d-a40a-b555b3fa45bd button.colab-df-convert');\n",
              "        buttonEl.style.display =\n",
              "          google.colab.kernel.accessAllowed ? 'block' : 'none';\n",
              "\n",
              "        async function convertToInteractive(key) {\n",
              "          const element = document.querySelector('#df-79d667ec-b670-4c3d-a40a-b555b3fa45bd');\n",
              "          const dataTable =\n",
              "            await google.colab.kernel.invokeFunction('convertToInteractive',\n",
              "                                                     [key], {});\n",
              "          if (!dataTable) return;\n",
              "\n",
              "          const docLinkHtml = 'Like what you see? Visit the ' +\n",
              "            '<a target=\"_blank\" href=https://colab.research.google.com/notebooks/data_table.ipynb>data table notebook</a>'\n",
              "            + ' to learn more about interactive tables.';\n",
              "          element.innerHTML = '';\n",
              "          dataTable['output_type'] = 'display_data';\n",
              "          await google.colab.output.renderOutput(dataTable, element);\n",
              "          const docLink = document.createElement('div');\n",
              "          docLink.innerHTML = docLinkHtml;\n",
              "          element.appendChild(docLink);\n",
              "        }\n",
              "      </script>\n",
              "    </div>\n",
              "  </div>\n",
              "  "
            ]
          },
          "metadata": {},
          "execution_count": 4
        }
      ]
    },
    {
      "cell_type": "markdown",
      "source": [
        "**Enhancing Vectorizer with Lemmatizer**"
      ],
      "metadata": {
        "id": "7MFLEg_2_-dx"
      }
    },
    {
      "cell_type": "code",
      "source": [
        "import nltk\n",
        "nltk.download(['punkt','wordnet'])  #Lexical DB for english lang #punkt - tokenizer model for variuos lang\n",
        "nltk.download('omw-1.4')  #Open Multilingual WordNet - 1.4 - WordNet for multiple languages"
      ],
      "metadata": {
        "colab": {
          "base_uri": "https://localhost:8080/"
        },
        "id": "aQIgVM2Di2uI",
        "outputId": "aaa2bd91-0bb2-4caf-c4c6-8bbefd0dd09d"
      },
      "execution_count": 5,
      "outputs": [
        {
          "output_type": "stream",
          "name": "stderr",
          "text": [
            "[nltk_data] Downloading package punkt to /root/nltk_data...\n",
            "[nltk_data]   Unzipping tokenizers/punkt.zip.\n",
            "[nltk_data] Downloading package wordnet to /root/nltk_data...\n",
            "[nltk_data] Downloading package omw-1.4 to /root/nltk_data...\n"
          ]
        },
        {
          "output_type": "execute_result",
          "data": {
            "text/plain": [
              "True"
            ]
          },
          "metadata": {},
          "execution_count": 5
        }
      ]
    },
    {
      "cell_type": "code",
      "source": [
        "#punkt - Tokenizer\n",
        "#wordnet - Lemmatizer\n",
        "\n",
        "from nltk.stem import WordNetLemmatizer\n",
        "lemm = WordNetLemmatizer()\n",
        "\n",
        "print(lemm.lemmatize(\"mouse\"))\n",
        "print(lemm.lemmatize(\"feet\"))\n",
        "print(lemm.lemmatize(\"misery\"))\n",
        "print(lemm.lemmatize(\"houses\"))\n",
        "print(lemm.lemmatize(\"caring\"))\n",
        "print(lemm.lemmatize(\"swanandi\"))\n"
      ],
      "metadata": {
        "colab": {
          "base_uri": "https://localhost:8080/"
        },
        "id": "o7ybWn64_z7U",
        "outputId": "17db9eca-1929-49c5-a3ba-cbe50069b5e7"
      },
      "execution_count": 6,
      "outputs": [
        {
          "output_type": "stream",
          "name": "stdout",
          "text": [
            "mouse\n",
            "foot\n",
            "misery\n",
            "house\n",
            "caring\n",
            "swanandi\n"
          ]
        }
      ]
    },
    {
      "cell_type": "code",
      "source": [
        "sentence = \"My grandma is very caring. The striped bat are hanging on their feet\"\n",
        "\n",
        "#Tokenization\n",
        "li_words = nltk.word_tokenize(sentence)\n",
        "print(li_words)"
      ],
      "metadata": {
        "colab": {
          "base_uri": "https://localhost:8080/"
        },
        "id": "orOgfNna_z9s",
        "outputId": "7ee70c03-ebf3-4390-d86c-d3672eae7a4b"
      },
      "execution_count": 7,
      "outputs": [
        {
          "output_type": "stream",
          "name": "stdout",
          "text": [
            "['My', 'grandma', 'is', 'very', 'caring', '.', 'The', 'striped', 'bat', 'are', 'hanging', 'on', 'their', 'feet']\n"
          ]
        }
      ]
    },
    {
      "cell_type": "code",
      "source": [
        "output = [lemm.lemmatize(w) for w in li_words]\n",
        "print(output)"
      ],
      "metadata": {
        "colab": {
          "base_uri": "https://localhost:8080/"
        },
        "id": "HgIRlCkb_0AG",
        "outputId": "5e7dea5b-fa63-4c66-ab0c-d089ae05fcc2"
      },
      "execution_count": 8,
      "outputs": [
        {
          "output_type": "stream",
          "name": "stdout",
          "text": [
            "['My', 'grandma', 'is', 'very', 'caring', '.', 'The', 'striped', 'bat', 'are', 'hanging', 'on', 'their', 'foot']\n"
          ]
        }
      ]
    },
    {
      "cell_type": "markdown",
      "source": [
        "**Provide POS(Parts of Speech) tag as second argument to lemmatize()**"
      ],
      "metadata": {
        "id": "TjfyV69hDinB"
      }
    },
    {
      "cell_type": "code",
      "source": [
        "print(lemm.lemmatize(\"caring\", \"v\"))"
      ],
      "metadata": {
        "colab": {
          "base_uri": "https://localhost:8080/"
        },
        "id": "d_HE7nHU_0Dd",
        "outputId": "6b05add6-b0e7-4e0e-fb9c-be604895a654"
      },
      "execution_count": 9,
      "outputs": [
        {
          "output_type": "stream",
          "name": "stdout",
          "text": [
            "care\n"
          ]
        }
      ]
    },
    {
      "cell_type": "code",
      "source": [
        "print(lemm.lemmatize(\"stripes\", \"v\"))\n",
        "print(lemm.lemmatize(\"stripes\", \"n\"))\n",
        "print(lemm.lemmatize(\"are\", \"v\"))"
      ],
      "metadata": {
        "colab": {
          "base_uri": "https://localhost:8080/"
        },
        "id": "lPP_9ozCDT7b",
        "outputId": "e79736da-bd90-4199-e8cc-aaf63619126b"
      },
      "execution_count": 10,
      "outputs": [
        {
          "output_type": "stream",
          "name": "stdout",
          "text": [
            "strip\n",
            "stripe\n",
            "be\n"
          ]
        }
      ]
    },
    {
      "cell_type": "markdown",
      "source": [
        "**WordNet Lemmatizer with POS tag**"
      ],
      "metadata": {
        "id": "y0tkzi6AD1Fl"
      }
    },
    {
      "cell_type": "code",
      "source": [
        "nltk.download('averaged_perceptron_tagger')"
      ],
      "metadata": {
        "colab": {
          "base_uri": "https://localhost:8080/"
        },
        "id": "k6FEq-tZESC8",
        "outputId": "2f3fd9b5-e225-49e2-ed0f-27e284d79604"
      },
      "execution_count": 11,
      "outputs": [
        {
          "output_type": "stream",
          "name": "stderr",
          "text": [
            "[nltk_data] Downloading package averaged_perceptron_tagger to\n",
            "[nltk_data]     /root/nltk_data...\n",
            "[nltk_data]   Unzipping taggers/averaged_perceptron_tagger.zip.\n"
          ]
        },
        {
          "output_type": "execute_result",
          "data": {
            "text/plain": [
              "True"
            ]
          },
          "metadata": {},
          "execution_count": 11
        }
      ]
    },
    {
      "cell_type": "code",
      "source": [
        "def get_wordnet_pos_tag(word):\n",
        "  tag = nltk.pos_tag([word])\n",
        "  return tag\n",
        "\n",
        "get_wordnet_pos_tag(\"caring\")\n",
        "get_wordnet_pos_tag(\"loudly\")"
      ],
      "metadata": {
        "colab": {
          "base_uri": "https://localhost:8080/"
        },
        "id": "APBdEMqXDXzA",
        "outputId": "3cb48cee-89ad-40b6-81a4-5bfe3a3ed8b0"
      },
      "execution_count": 12,
      "outputs": [
        {
          "output_type": "execute_result",
          "data": {
            "text/plain": [
              "[('loudly', 'RB')]"
            ]
          },
          "metadata": {},
          "execution_count": 12
        }
      ]
    },
    {
      "cell_type": "code",
      "source": [
        "from nltk.corpus.reader import wordnet\n",
        "\n",
        "def get_wordnet_pos_tag(word):\n",
        "  tag = nltk.pos_tag([word])[0][1][0]\n",
        "  tag_dict={\n",
        "      \"J\":wordnet.ADJ,\n",
        "      \"R\":wordnet.ADV,\n",
        "      \"N\":wordnet.NOUN,\n",
        "      \"V\":wordnet.VERB\n",
        "  }\n",
        "  print(tag)\n",
        "  return tag_dict.get(tag, wordnet.NOUN) #Default tag -  POS tag - when the word NOT classified as any predefined POS\n",
        "\n",
        "get_wordnet_pos_tag(\"caring\")"
      ],
      "metadata": {
        "colab": {
          "base_uri": "https://localhost:8080/",
          "height": 52
        },
        "id": "QXA1yyGIDc6v",
        "outputId": "de681860-5317-414d-de7b-0b5424ffb00e"
      },
      "execution_count": 13,
      "outputs": [
        {
          "output_type": "stream",
          "name": "stdout",
          "text": [
            "V\n"
          ]
        },
        {
          "output_type": "execute_result",
          "data": {
            "text/plain": [
              "'v'"
            ],
            "application/vnd.google.colaboratory.intrinsic+json": {
              "type": "string"
            }
          },
          "metadata": {},
          "execution_count": 13
        }
      ]
    },
    {
      "cell_type": "code",
      "source": [
        "lemm = WordNetLemmatizer()\n",
        "word = \"caring\"\n",
        "print(lemm.lemmatize(word,get_wordnet_pos_tag(word)))"
      ],
      "metadata": {
        "colab": {
          "base_uri": "https://localhost:8080/"
        },
        "id": "MJtNx47KGspf",
        "outputId": "6b9e16fe-2c7f-4c0f-d4bc-cf1fd70ad6a4"
      },
      "execution_count": 14,
      "outputs": [
        {
          "output_type": "stream",
          "name": "stdout",
          "text": [
            "V\n",
            "care\n"
          ]
        }
      ]
    },
    {
      "cell_type": "code",
      "source": [
        "lemm = WordNetLemmatizer()\n",
        "word = \"brave\"\n",
        "print(lemm.lemmatize(word,get_wordnet_pos_tag(word)))"
      ],
      "metadata": {
        "colab": {
          "base_uri": "https://localhost:8080/"
        },
        "id": "EOfvse02HTLa",
        "outputId": "49e5fe89-19e5-492e-be27-0d0d9c8badfc"
      },
      "execution_count": 15,
      "outputs": [
        {
          "output_type": "stream",
          "name": "stdout",
          "text": [
            "N\n",
            "brave\n"
          ]
        }
      ]
    },
    {
      "cell_type": "code",
      "source": [
        "lemm = WordNetLemmatizer()\n",
        "word = \"striked\"\n",
        "print(lemm.lemmatize(word,get_wordnet_pos_tag(word)))"
      ],
      "metadata": {
        "colab": {
          "base_uri": "https://localhost:8080/"
        },
        "id": "ripnH036HayK",
        "outputId": "fa0804f4-96c9-4322-d36b-1f3d325222fd"
      },
      "execution_count": 16,
      "outputs": [
        {
          "output_type": "stream",
          "name": "stdout",
          "text": [
            "V\n",
            "strike\n"
          ]
        }
      ]
    },
    {
      "cell_type": "code",
      "source": [
        "print(lemm.lemmatize(\"hanging\", \"v\"))\n"
      ],
      "metadata": {
        "colab": {
          "base_uri": "https://localhost:8080/"
        },
        "id": "P_R1OIHpIHJV",
        "outputId": "c40e475e-43de-4d07-92b1-8266abfbe5a8"
      },
      "execution_count": 17,
      "outputs": [
        {
          "output_type": "stream",
          "name": "stdout",
          "text": [
            "hang\n"
          ]
        }
      ]
    },
    {
      "cell_type": "code",
      "source": [
        "sentence = \"My grandma is very caring. The striped bat are hanging on their feet\"\n",
        "\n",
        "#Tokenization\n",
        "li_words = nltk.word_tokenize(sentence)\n",
        "print(li_words)\n",
        "\n",
        "output = [lemm.lemmatize(w,get_wordnet_pos_tag(w)) for w in li_words]\n",
        "print(output)"
      ],
      "metadata": {
        "colab": {
          "base_uri": "https://localhost:8080/"
        },
        "outputId": "f67d26a1-fcae-4efd-a306-ed67d66cd211",
        "id": "vt_G_jY5Iix4"
      },
      "execution_count": 18,
      "outputs": [
        {
          "output_type": "stream",
          "name": "stdout",
          "text": [
            "['My', 'grandma', 'is', 'very', 'caring', '.', 'The', 'striped', 'bat', 'are', 'hanging', 'on', 'their', 'feet']\n",
            "P\n",
            "N\n",
            "V\n",
            "R\n",
            "V\n",
            ".\n",
            "D\n",
            "V\n",
            "N\n",
            "V\n",
            "V\n",
            "I\n",
            "P\n",
            "N\n",
            "['My', 'grandma', 'be', 'very', 'care', '.', 'The', 'strip', 'bat', 'be', 'hang', 'on', 'their', 'foot']\n"
          ]
        }
      ]
    },
    {
      "cell_type": "markdown",
      "source": [
        "**Spacy Lemmatizer**"
      ],
      "metadata": {
        "id": "gCU1ZJuvInte"
      }
    },
    {
      "cell_type": "code",
      "source": [
        "import spacy\n",
        "sp_nlp = spacy.load('en_core_web_sm')\n",
        "sentence = \"My grandma is very caring. The striped bat are hanging on their feet\"\n",
        "\n",
        "#Parse the sentence using the lang model -  'en_core_web_sm'\n",
        "doc = sp_nlp(sentence)\n",
        "print(doc)\n",
        "\n",
        "#Extract lemma for each token in sentence\n",
        "output = [token.lemma_ for token in doc]\n",
        "print(output)"
      ],
      "metadata": {
        "colab": {
          "base_uri": "https://localhost:8080/"
        },
        "id": "CIwi1fvyIiIf",
        "outputId": "46144331-ab04-4082-987e-d99da07d53f0"
      },
      "execution_count": 19,
      "outputs": [
        {
          "output_type": "stream",
          "name": "stdout",
          "text": [
            "My grandma is very caring. The striped bat are hanging on their feet\n",
            "['my', 'grandma', 'be', 'very', 'caring', '.', 'the', 'striped', 'bat', 'be', 'hang', 'on', 'their', 'foot']\n"
          ]
        }
      ]
    }
  ]
}